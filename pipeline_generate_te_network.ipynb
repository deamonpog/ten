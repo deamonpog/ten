{
 "cells": [
  {
   "cell_type": "code",
   "execution_count": 2,
   "id": "59e4aa76",
   "metadata": {},
   "outputs": [
    {
     "name": "stdout",
     "output_type": "stream",
     "text": [
      "Looking in indexes: https://pypi.org/simple, https://pip.repos.neuron.amazonaws.com\n",
      "Collecting pyinform\n",
      "  Using cached pyinform-0.2.0-py3-none-any.whl (131 kB)\n",
      "Requirement already satisfied: numpy in /home/ec2-user/anaconda3/envs/python3/lib/python3.8/site-packages (from pyinform) (1.20.3)\n",
      "Installing collected packages: pyinform\n",
      "Successfully installed pyinform-0.2.0\n",
      "\u001b[33mWARNING: You are using pip version 22.0.4; however, version 22.2.2 is available.\n",
      "You should consider upgrading via the '/home/ec2-user/anaconda3/envs/python3/bin/python -m pip install --upgrade pip' command.\u001b[0m\u001b[33m\n",
      "\u001b[0mNote: you may need to restart the kernel to use updated packages.\n"
     ]
    }
   ],
   "source": [
    "%pip install pyinform"
   ]
  },
  {
   "cell_type": "code",
   "execution_count": 11,
   "id": "b23969c5",
   "metadata": {},
   "outputs": [],
   "source": [
    "import pandas as pd\n",
    "import numpy as np\n",
    "import datetime\n",
    "import pyinform\n",
    "import multiprocessing\n",
    "import typing\n",
    "import time\n",
    "\n",
    "\n",
    "from process_pipeline import generate_te_edge_list"
   ]
  },
  {
   "cell_type": "code",
   "execution_count": 10,
   "id": "f4bcbdfb",
   "metadata": {},
   "outputs": [],
   "source": [
    "FREQUENCY = '4H'\n",
    "\n",
    "data_dir = 's3://mips-main/initial_data_collection/processed_data/actors_and_messages/'\n",
    "\n",
    "file_table_2_users = 'users.csv'\n",
    "file_table_3_osn_msgs = 'all_osn_msgs.csv'\n",
    "\n",
    "file_table_6_actors = 'actors.csv'\n",
    "file_table_7_indv_actors = 'indv_actors.csv'\n",
    "file_table_8_comm_actors = 'comm_actors.csv'\n",
    "file_table_9_plat_actors = 'plat_actors.csv'"
   ]
  },
  {
   "cell_type": "code",
   "execution_count": null,
   "id": "2def03cd",
   "metadata": {},
   "outputs": [],
   "source": [
    "def main( actors_list, frequency ):\n",
    "    start_time = time.time() \n",
    "    t3_all_osn_msgs_df = pd.read_csv(data_dir + file_table_3_osn_msgs, parse_dates=['datetime'])\n",
    "    end_time = time.time() \n",
    "    print(f\"{(end_time - start_time)/60} mins for reading OSN Msgs\")\n",
    "    \n",
    "    start_time = time.time() \n",
    "    t6_actors_df = pd.read_csv(data_dir + file_table_6_actors, index_col='actor_id')\n",
    "    end_time = time.time() \n",
    "    print(f\"{(end_time - start_time)/60} mins for reading actors\")\n",
    "    \n",
    "    start_time = time.time() \n",
    "    t7_indv_actors_df = pd.read_csv(data_dir + file_table_7_indv_actors, index_col='actor_id')\n",
    "    end_time = time.time() \n",
    "    print(f\"{(end_time - start_time)/60} mins for reading indv actors\")\n",
    "    \n",
    "    start_time = time.time() \n",
    "    t8_comm_actors_df = pd.read_csv(data_dir + file_table_8_comm_actors, index_col='actor_id')\n",
    "    end_time = time.time() \n",
    "    print(f\"{(end_time - start_time)/60} mins for reading comm actors\")\n",
    "    \n",
    "    start_time = time.time() \n",
    "    t9_plat_actors_df = pd.read_csv(data_dir + file_table_9_plat_actors, index_col='actor_id')\n",
    "    end_time = time.time() \n",
    "    print(f\"{(end_time - start_time)/60} mins for reading plat actors\")\n",
    "    \n",
    "    start_time = time.time() \n",
    "    r = compute_actor_te_network( actors_list, t3_all_osn_msgs_df, t6_actors_df, t7_indv_actors_df, t8_comm_actors_df, t9_plat_actors_df, frequency)\n",
    "    end_time = time.time() \n",
    "    print(f\"{(end_time - start_time)/60} mins for computing te network\")\n",
    "    \n",
    "    return r\n",
    "\n",
    "def compute_actor_te_network(actors_of_interest, t3_all_osn_msgs, t6_actors, t7_indv_actors, t8_comm_actors, t9_plat_actors, freq):\n",
    "    # generate te network for the selected actors\n",
    "    results_df = generate_te_edge_list(actors_of_interest, t3_all_osn_msgs, t6_actors, t7_indv_actors, t8_comm_actors, t9_plat_actors, freq)\n",
    "    results_df.to_csv(dummy_data_dir + 'dummy_actor_te_edges.csv', index=False)\n",
    "    return results_df\n",
    "\n"
   ]
  },
  {
   "cell_type": "code",
   "execution_count": null,
   "id": "324fd244",
   "metadata": {},
   "outputs": [],
   "source": [
    "# choose actors (e.g. here collects all the actors)\n",
    "\n",
    "all_actors = pd.read_csv(data_dir + file_table_6_actors, index_col='actor_id').index.to_list()\n",
    "print(\"values read\")\n",
    "\n",
    "r = main( all_actors , '4H' )\n",
    "\n",
    "print(\"program finished running\")\n",
    "\n"
   ]
  },
  {
   "cell_type": "code",
   "execution_count": 14,
   "id": "c364927f",
   "metadata": {},
   "outputs": [],
   "source": []
  },
  {
   "cell_type": "code",
   "execution_count": 15,
   "id": "4d671853",
   "metadata": {},
   "outputs": [],
   "source": []
  },
  {
   "cell_type": "code",
   "execution_count": null,
   "id": "8dd6d0f6",
   "metadata": {},
   "outputs": [],
   "source": []
  },
  {
   "cell_type": "code",
   "execution_count": null,
   "id": "49781a6d",
   "metadata": {},
   "outputs": [],
   "source": []
  }
 ],
 "metadata": {
  "kernelspec": {
   "display_name": "Python 3 (ipykernel)",
   "language": "python",
   "name": "python3"
  },
  "language_info": {
   "codemirror_mode": {
    "name": "ipython",
    "version": 3
   },
   "file_extension": ".py",
   "mimetype": "text/x-python",
   "name": "python",
   "nbconvert_exporter": "python",
   "pygments_lexer": "ipython3",
   "version": "3.8.12"
  }
 },
 "nbformat": 4,
 "nbformat_minor": 5
}
