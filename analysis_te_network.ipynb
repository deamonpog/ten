{
 "cells": [
  {
   "cell_type": "code",
   "execution_count": null,
   "id": "6828ed25",
   "metadata": {},
   "outputs": [],
   "source": [
    "# reqruied libraries\n",
    "import pandas as pd\n",
    "import numpy as np\n",
    "import networkx as nx\n",
    "import matplotlib.pyplot as plt\n",
    "import plotly.graph_objects as go"
   ]
  },
  {
   "cell_type": "code",
   "execution_count": null,
   "id": "6328b91d",
   "metadata": {},
   "outputs": [],
   "source": [
    "from IPython.display import display, HTML\n",
    "display(HTML(\"<style>.container { width:100% !important; }</style>\"))"
   ]
  },
  {
   "cell_type": "code",
   "execution_count": null,
   "id": "9515310f",
   "metadata": {},
   "outputs": [],
   "source": [
    "data_folder = 'C:/STUFF/RESEARCH/Brandwatch/OUTPUT/v2'"
   ]
  },
  {
   "cell_type": "code",
   "execution_count": null,
   "id": "ef8858a8",
   "metadata": {},
   "outputs": [],
   "source": [
    "nodes_df = pd.read_csv(data_folder + '/gephi_nodes.csv')\n",
    "nodes_df"
   ]
  },
  {
   "cell_type": "code",
   "execution_count": null,
   "id": "f5ccf7bb",
   "metadata": {},
   "outputs": [],
   "source": [
    "edges_df = pd.read_csv(data_folder + '/gephi_actor_te_edges.csv')\n",
    "edges_df"
   ]
  },
  {
   "cell_type": "code",
   "execution_count": null,
   "id": "f50170bd",
   "metadata": {},
   "outputs": [],
   "source": [
    "# simplify graph by filtering edges using a TE threshold value\n",
    "te_threshold = 0.1\n",
    "edges_df = edges_df[edges_df.total_te > te_threshold]\n",
    "edges_df"
   ]
  },
  {
   "cell_type": "code",
   "execution_count": null,
   "id": "e7a89a35",
   "metadata": {},
   "outputs": [],
   "source": [
    "# get all nodes in the simplified graph\n",
    "src_nodes = set(list(edges_df['Source'].unique()))\n",
    "tgt_nodes = set(list(edges_df['Target'].unique()))\n",
    "all_nodes = src_nodes.union(tgt_nodes)\n",
    "print(f'num_nodes: {len(all_nodes)}')"
   ]
  },
  {
   "cell_type": "code",
   "execution_count": null,
   "id": "3e5433ea",
   "metadata": {},
   "outputs": [],
   "source": [
    "# column name relations\n",
    "cmap = {'UF':'tomato','UM':'lawngreen','TF':'cornflowerblue','TM':'fuchsia'}\n",
    "classes=['UF', 'UM', 'TF', 'TM']\n",
    "all_cols = []\n",
    "src_cols = {}\n",
    "for s in classes:\n",
    "    src_cols[s] = []\n",
    "    for t in classes:\n",
    "        col_name = f\"{s}_{t}\"\n",
    "        all_cols.append(col_name)\n",
    "        src_cols[s].append(col_name)\n",
    "        \n",
    "print('all cols',all_cols)\n",
    "print('src cols',src_cols)"
   ]
  },
  {
   "cell_type": "code",
   "execution_count": null,
   "id": "c205ed72",
   "metadata": {},
   "outputs": [],
   "source": [
    "# nodes with 0 in_degree\n",
    "roots = all_nodes.difference(tgt_nodes)\n",
    "roots"
   ]
  },
  {
   "cell_type": "code",
   "execution_count": null,
   "id": "7dcec112",
   "metadata": {},
   "outputs": [],
   "source": [
    "G = nx.from_pandas_edgelist(edges_df, source='Source', target='Target', edge_attr=['total_te'], create_using=nx.DiGraph())\n",
    "print(G)"
   ]
  },
  {
   "cell_type": "code",
   "execution_count": null,
   "id": "c4e93bc8",
   "metadata": {},
   "outputs": [],
   "source": [
    "nx.draw(G)"
   ]
  },
  {
   "cell_type": "code",
   "execution_count": null,
   "id": "fd226bbd",
   "metadata": {
    "scrolled": false
   },
   "outputs": [],
   "source": [
    "# iterate over levels\n",
    "this_level_nodes = roots\n",
    "visited = set()\n",
    "te_values = []\n",
    "this_level = 0\n",
    "while len(visited) < len(all_nodes):\n",
    "    # mark this level as visited\n",
    "    print(f\" nodes in this level : {this_level_nodes}\")\n",
    "    visited.update(this_level_nodes)\n",
    "    this_level += 1\n",
    "    # process this level\n",
    "    edges_from_this_level = edges_df[edges_df['Source'].isin(this_level_nodes)]\n",
    "    sum_te_this_level = edges_from_this_level[all_cols].sum()\n",
    "    sum_te_this_level = sum_te_this_level / sum_te_this_level.sum() # normalize\n",
    "    te_values.append( sum_te_this_level )\n",
    "    # calc nodes on next level\n",
    "    this_level_nodes = set(edges_from_this_level['Target'].to_list()).difference(visited)\n",
    "    \n",
    "total_levels = this_level\n",
    "te_levels_df = pd.concat(te_values, axis=1)\n",
    "te_levels_df"
   ]
  },
  {
   "cell_type": "code",
   "execution_count": null,
   "id": "2f809891",
   "metadata": {
    "scrolled": true
   },
   "outputs": [],
   "source": [
    "all_labels = []\n",
    "label_color = []\n",
    "label_index = {}\n",
    "next_index = 0\n",
    "\n",
    "src = []\n",
    "tgt = []\n",
    "val = []\n",
    "\n",
    "def get_label_index(this_label):\n",
    "    global label_index\n",
    "    global next_index\n",
    "    if this_label not in label_index:\n",
    "        all_labels.append(this_label)\n",
    "        label_color.append(cmap[this_label[:2]])\n",
    "        label_index[this_label] = next_index\n",
    "        next_index += 1\n",
    "    return label_index[this_label]\n",
    "\n",
    "for this_level in range(total_levels):\n",
    "    for this_src_class in cols:\n",
    "        this_src_label = f\"{this_src_class[:2]}_{this_level}\"\n",
    "        this_tgt_label = f\"{this_src_class[3:]}_{this_level + 1}\"\n",
    "        print(this_src_label, this_tgt_label, te_levels_df.loc[this_src_class, this_level], cmap[this_src_label[:2]])\n",
    "        this_src_label_index = get_label_index(this_src_label)\n",
    "        this_tgt_label_index = get_label_index(this_tgt_label)\n",
    "        src.append(this_src_label_index)\n",
    "        tgt.append(this_tgt_label_index)\n",
    "        val.append(te_levels_df.loc[this_src_class, this_level])\n",
    "        "
   ]
  },
  {
   "cell_type": "code",
   "execution_count": null,
   "id": "ceefa11f",
   "metadata": {},
   "outputs": [],
   "source": [
    "fig = go.Figure(data=[go.Sankey(\n",
    "    node = dict(\n",
    "        pad = 15,\n",
    "        thickness = 20,\n",
    "        line = dict(color = \"black\", width = 0.5),\n",
    "        label = all_labels,\n",
    "        color = label_color\n",
    "    ),\n",
    "    link = dict(\n",
    "        source = src,\n",
    "        target = tgt,\n",
    "        value = val,\n",
    "        color= [label_color[x] for x in src]\n",
    "  ))])\n",
    "\n",
    "fig.update_layout(title_text=\"Influence Cascade\", font_size=10)\n",
    "fig.show()"
   ]
  },
  {
   "cell_type": "code",
   "execution_count": null,
   "id": "5c8ebddc",
   "metadata": {},
   "outputs": [],
   "source": []
  },
  {
   "cell_type": "code",
   "execution_count": null,
   "id": "0a50e593",
   "metadata": {},
   "outputs": [],
   "source": []
  },
  {
   "cell_type": "code",
   "execution_count": null,
   "id": "68e32a42",
   "metadata": {},
   "outputs": [],
   "source": []
  },
  {
   "cell_type": "code",
   "execution_count": null,
   "id": "63075ef9",
   "metadata": {},
   "outputs": [],
   "source": []
  }
 ],
 "metadata": {
  "kernelspec": {
   "display_name": "Python 3 (ipykernel)",
   "language": "python",
   "name": "python3"
  },
  "language_info": {
   "codemirror_mode": {
    "name": "ipython",
    "version": 3
   },
   "file_extension": ".py",
   "mimetype": "text/x-python",
   "name": "python",
   "nbconvert_exporter": "python",
   "pygments_lexer": "ipython3",
   "version": "3.8.12"
  }
 },
 "nbformat": 4,
 "nbformat_minor": 5
}
