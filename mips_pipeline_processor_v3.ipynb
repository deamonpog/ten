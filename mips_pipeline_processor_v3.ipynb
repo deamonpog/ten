{
 "cells": [
  {
   "cell_type": "code",
   "execution_count": 1,
   "id": "3ac7f66d",
   "metadata": {},
   "outputs": [
    {
     "name": "stdout",
     "output_type": "stream",
     "text": [
      "Looking in indexes: https://pypi.org/simple, https://pip.repos.neuron.amazonaws.com\n",
      "Requirement already satisfied: networkx[default] in /home/ec2-user/anaconda3/envs/python3/lib/python3.10/site-packages (3.1)\n",
      "Requirement already satisfied: numpy>=1.20 in /home/ec2-user/anaconda3/envs/python3/lib/python3.10/site-packages (from networkx[default]) (1.22.3)\n",
      "Requirement already satisfied: scipy>=1.8 in /home/ec2-user/anaconda3/envs/python3/lib/python3.10/site-packages (from networkx[default]) (1.10.0)\n",
      "Requirement already satisfied: matplotlib>=3.4 in /home/ec2-user/anaconda3/envs/python3/lib/python3.10/site-packages (from networkx[default]) (3.6.2)\n",
      "Requirement already satisfied: pandas>=1.3 in /home/ec2-user/anaconda3/envs/python3/lib/python3.10/site-packages (from networkx[default]) (1.5.2)\n",
      "Requirement already satisfied: python-dateutil>=2.7 in /home/ec2-user/anaconda3/envs/python3/lib/python3.10/site-packages (from matplotlib>=3.4->networkx[default]) (2.8.2)\n",
      "Requirement already satisfied: pyparsing>=2.2.1 in /home/ec2-user/anaconda3/envs/python3/lib/python3.10/site-packages (from matplotlib>=3.4->networkx[default]) (3.0.9)\n",
      "Requirement already satisfied: cycler>=0.10 in /home/ec2-user/anaconda3/envs/python3/lib/python3.10/site-packages (from matplotlib>=3.4->networkx[default]) (0.11.0)\n",
      "Requirement already satisfied: pillow>=6.2.0 in /home/ec2-user/anaconda3/envs/python3/lib/python3.10/site-packages (from matplotlib>=3.4->networkx[default]) (9.4.0)\n",
      "Requirement already satisfied: kiwisolver>=1.0.1 in /home/ec2-user/anaconda3/envs/python3/lib/python3.10/site-packages (from matplotlib>=3.4->networkx[default]) (1.4.4)\n",
      "Requirement already satisfied: fonttools>=4.22.0 in /home/ec2-user/anaconda3/envs/python3/lib/python3.10/site-packages (from matplotlib>=3.4->networkx[default]) (4.38.0)\n",
      "Requirement already satisfied: packaging>=20.0 in /home/ec2-user/anaconda3/envs/python3/lib/python3.10/site-packages (from matplotlib>=3.4->networkx[default]) (21.3)\n",
      "Requirement already satisfied: contourpy>=1.0.1 in /home/ec2-user/anaconda3/envs/python3/lib/python3.10/site-packages (from matplotlib>=3.4->networkx[default]) (1.0.6)\n",
      "Requirement already satisfied: pytz>=2020.1 in /home/ec2-user/anaconda3/envs/python3/lib/python3.10/site-packages (from pandas>=1.3->networkx[default]) (2022.7)\n",
      "Requirement already satisfied: six>=1.5 in /home/ec2-user/anaconda3/envs/python3/lib/python3.10/site-packages (from python-dateutil>=2.7->matplotlib>=3.4->networkx[default]) (1.16.0)\n",
      "Note: you may need to restart the kernel to use updated packages.\n",
      "Looking in indexes: https://pypi.org/simple, https://pip.repos.neuron.amazonaws.com\n",
      "Requirement already satisfied: pyinform in /home/ec2-user/anaconda3/envs/python3/lib/python3.10/site-packages (0.2.0)\n",
      "Requirement already satisfied: numpy in /home/ec2-user/anaconda3/envs/python3/lib/python3.10/site-packages (from pyinform) (1.22.3)\n",
      "Note: you may need to restart the kernel to use updated packages.\n"
     ]
    }
   ],
   "source": [
    "%pip install --upgrade networkx[default]\n",
    "%pip install pyinform"
   ]
  },
  {
   "cell_type": "code",
   "execution_count": 2,
   "id": "0a6217ad",
   "metadata": {},
   "outputs": [],
   "source": [
    "# reqruied libraries\n",
    "\n",
    "import glob\n",
    "import re\n",
    "import os\n",
    "import time\n",
    "import datetime\n",
    "\n",
    "import pandas as pd\n",
    "import numpy as np\n",
    "import networkx as nx\n",
    "import pyinform\n",
    "\n",
    "# local functions import\n",
    "\n",
    "import transfer_entropy_functions\n",
    "import url_identifier"
   ]
  },
  {
   "cell_type": "code",
   "execution_count": 3,
   "id": "c72aebcd",
   "metadata": {},
   "outputs": [],
   "source": [
    "# s3 specific libraries\n",
    "import s3fs\n",
    "import boto3\n",
    "s3 = s3fs.S3FileSystem(anon=False)"
   ]
  },
  {
   "cell_type": "code",
   "execution_count": 4,
   "id": "3841728b",
   "metadata": {},
   "outputs": [],
   "source": [
    "# Running with S3 (inside AWS) ?\n",
    "RUNNING_IN_S3 = True"
   ]
  },
  {
   "cell_type": "code",
   "execution_count": 18,
   "id": "85d0f050",
   "metadata": {},
   "outputs": [],
   "source": [
    "# Directories\n",
    "SAVE_OUTPUT_FILES = True\n",
    "OUTPUT_DIR = './OUTPUT'\n",
    "\n",
    "UPLOAD_FILES = False\n",
    "UPLOAD_S3_BUCKET_NAME = 'mips-main'\n",
    "UPLOAD_S3_BUCKET_SUBFOLDER = 'initial_data_collection/processed_data/actors_and_messages/v4'\n",
    "\n",
    "#PC_INPUT_BRANDWATCH_DIR = 'C:/STUFF/RESEARCH/Brandwatch/TEST'\n",
    "PC_INPUT_BRANDWATCH_DIR = 'C:/STUFF/RESEARCH/Brandwatch/DATA/MainQuery/All'\n",
    "S3_INPUT_BRANDWATCH_DIR = 's3://mips-main/initial_data_collection/raw_data/brandwatch'\n",
    "INPUT_BRANDWATCH_DIR = S3_INPUT_BRANDWATCH_DIR if RUNNING_IN_S3 else PC_INPUT_BRANDWATCH_DIR\n",
    "\n",
    "INPUT_4CHAN_DIR = 's3://mips-main/initial_data_collection/TE_ready_data/V2'\n",
    "\n",
    "INPUT_REDDIT_DIR = 's3://mips-main/initial_data_collection/TE_ready_data/V2'\n",
    "\n",
    "S3_NEWS_DOMAINS_CSV_FILE = 's3://mips-main/initial_data_collection/news_outlets_v3.csv'\n",
    "PC_NEWS_DOMAINS_CSV_FILE = 'C:/STUFF/RESEARCH/Brandwatch/DATA/news_outlets_v3.csv'\n",
    "NEWS_DOMAINS_CSV_FILE = S3_NEWS_DOMAINS_CSV_FILE if RUNNING_IN_S3 else PC_NEWS_DOMAINS_CSV_FILE\n",
    "\n",
    "S3_NEWS_DOMAIN_TUFM_FILE = \"s3://mips-main-2/UFTM_classification-v2/news_table-v2-UT60-FM5.csv\"\n",
    "#S3_NEWS_DOMAIN_TUFM_FILE = 's3://mips-main/initial_data_collection/processed_data/news_sources/news_table-v2-UT60-FM5.csv'\n",
    "PC_NEWS_DOMAIN_TUFM_FILE = 'C:/STUFF/RESEARCH/Brandwatch/DATA/news_table-v2-UT60-FM5.csv' \n",
    "NEWS_DOMAIN_TUFM_FILE = S3_NEWS_DOMAIN_TUFM_FILE if RUNNING_IN_S3 else PC_NEWS_DOMAIN_TUFM_FILE"
   ]
  },
  {
   "cell_type": "code",
   "execution_count": 10,
   "id": "fd42a813",
   "metadata": {},
   "outputs": [],
   "source": [
    "OUTPUT_PLATFORM_COUNTS_FILE     = OUTPUT_DIR + \"/platform_counts_info.csv\"\n",
    "OUTPUT_USERS_FILE               = OUTPUT_DIR + \"/users.csv\"\n",
    "OUTPUT_RETWEET_NETWORK_FILE     = OUTPUT_DIR + \"/retweet_network.csv\"\n",
    "OUTPUT_ALL_USER_COMM_SIZES_FILE = OUTPUT_DIR + \"/all_user_comm_sizes.csv\"\n",
    "OUTPUT_PLATFORM_ACTORS_FILE     = OUTPUT_DIR + \"/plat_actors.csv\"\n",
    "OUTPUT_INDV_ACTORS_FILE         = OUTPUT_DIR + \"/indv_actors.csv\"\n",
    "OUTPUT_COMM_INFO_FILE           = OUTPUT_DIR + \"/comm_info.csv\"\n",
    "OUTPUT_COMM_ACTORS_FILE         = OUTPUT_DIR + \"/comm_actors.csv\"\n",
    "OUTPUT_ACTORS_FILE              = OUTPUT_DIR + \"/actors.csv\"\n",
    "OUTPUT_ALL_OSN_MSGS_FILE        = OUTPUT_DIR + \"/all_osn_msgs.csv\""
   ]
  },
  {
   "cell_type": "code",
   "execution_count": 11,
   "id": "a1787919",
   "metadata": {},
   "outputs": [],
   "source": [
    "# Parameters\n",
    "SAMPLE_FREQUENCY = '6H'\n",
    "\n",
    "WINDOW_SHIFT_BY_DAYS = 1\n",
    "INIT_WINDOW_SIZE = datetime.timedelta(days=4)\n",
    "IS_GROWING_WINDOW = True # True if Growing, False if Moving\n",
    "\n",
    "START_DATE = datetime.datetime(2018,3,1)\n",
    "END_DATE = datetime.datetime(2018,5,1)\n",
    "\n",
    "#skip_strings = {'add', 'al', 'au', 'ca', 'com', 'es', 'in', 'is', 'it', 'ms', 'my', 'net', 'news', 'org', 'rs', 'st', 'tv', 'uk', 'us', 'co'}\n",
    "\n",
    "MIN_COMM_SIZE = 500\n",
    "MIN_PLAT_SIZE = 50\n",
    "\n",
    "#KNOWN_PLATFORMS = {'twitter.com', 'tumblr.com', 'youtube.com', 'reddit.com', '4chan.org', 'facebook.com', 'gab.com'}\n",
    "\n",
    "REQUIRED_COLUMNS = ['datetime','source_msg_id', 'source_user_id', 'content', 'title', 'parent_source_msg_id', 'parent_source_user_id', 'platform', 'article_url']\n"
   ]
  },
  {
   "cell_type": "code",
   "execution_count": 12,
   "id": "5dd45834",
   "metadata": {},
   "outputs": [],
   "source": [
    "# All columns:\n",
    "reddit_submissions_column_dict = {'archived' : 'archived', 'author' : 'source_user_id', 'call_to_action' : 'call_to_action', 'can_gild' : 'can_gild', 'contest_mode' : 'contest_mode',\n",
    "       'created_utc' : 'created_utc', 'datetime' : 'datetime', 'domain' : 'domain', 'gilded' : 'gilded', 'hidden' : 'hidden', 'hide_score' : 'hide_score',\n",
    "       'id' : 'source_msg_id', 'is_crosspostable' : 'is_crosspostable', 'is_reddit_media_domain' : 'is_reddit_media_domain', 'is_self' : 'is_self',\n",
    "       'is_video' : 'is_video', 'locked' : 'locked', 'no_follow' : 'no_follow', 'num_comments' : 'num_comments', 'num_crossposts' : 'num_crossposts',\n",
    "       'over_18' : 'over_18', 'permalink' : 'permalink', 'pinned' : 'pinned', 'score' : 'score', 'selftext' : 'content', 'send_replies' : 'send_replies',\n",
    "       'spoiler' : 'spoiler', 'stickied' : 'stickied', 'subreddit' : 'subreddit', 'subreddit_id' : 'subreddit_id',\n",
    "       'subreddit_subscribers' : 'subreddit_subscribers', 'subreddit_type' : 'subreddit_type', 'thumbnail' : 'thumbnail', 'title' : 'title', 'url' : 'url'}\n",
    "\n",
    "\n",
    "reddit_comments_column_dict = {'author' : 'source_user_id', 'body' : 'content', 'can_gild' : 'can_gild', 'controversiality' : 'controversiality', 'created_utc' : 'created_utc',\n",
    "       'datetime' : 'datetime', 'edited' : 'edited', 'id' : 'source_msg_id', 'is_submitter' : 'is_submitter', 'link_id' : 'link_id', 'no_follow' : 'no_follow', \n",
    "       'parent_id' : 'parent_source_msg_id', 'permalink' : 'permalink', 'retrieved_on' : 'retrieved_on', 'score' : 'score', 'send_replies' : 'send_replies',\n",
    "       'stickied' : 'stickied', 'subreddit' : 'subreddit', 'subreddit_id' : 'subreddit_id', 'subreddit_type' : 'subreddit_type'}\n",
    "\n",
    "\n",
    "fourchan_column_dict = {'archived' : 'archived', 'archived_on' : 'archived_on', 'bumplimit' : 'bumplimit', 'capcode' : 'capcode', 'closed' :'closed', 'com' : 'content',\n",
    "       'country' : 'country', 'country_name' : 'country_name', 'ext' : 'ext', 'extracted_poster_id' : 'source_user_id', 'filedeleted' : 'filedeleted',\n",
    "       'filename': 'filename', 'fsize' : 'fsize', 'h' : 'h', 'id' : 'id', 'imagelimit' : 'imagelimit', 'images' : 'images', 'm_img' : 'm_img', 'md5' : 'md5',\n",
    "       'name' : 'name', 'no' : 'source_msg_id', 'now' : 'now', 'perspectives' : 'perspectives', 'replies' : 'replies', 'semantic_url' : 'semantic_url',\n",
    "       'since4pass' : 'since4pass', 'spoiler' : 'spoiler', 'sticky' : 'sticky', 'sub' : 'sub', 'tail_size' : 'tail_size', 'tim' : 'tim', 'time' : 'time',\n",
    "       'datetime' : 'datetime', 'datetime_dateformat' : 'datetime_dateformat', 'tn_h' : 'tn_h', 'tn_w' : 'tn_w', 'troll_country' : 'troll_country',\n",
    "       'unique_ips' : 'unique_ips', 'w' : 'w', 'xa18' : 'xa18', 'xa19l' : 'xa19l', 'xa19s' : 'xa19s', 'xh17' : 'xh17', 'xh17c' : 'xh17c'}\n",
    "\n",
    "\n",
    "brandwatch_column_dict={'Date':'datetime', 'Author': 'source_user_id', 'Full Text':'content', 'Title':'title', \n",
    "                        'Thread Id': 'parent_source_msg_id', 'Thread Author': 'parent_source_user_id', \n",
    "                        'Domain':'platform', 'Expanded URLs':'article_url', 'Url': 'source_msg_id'}\n",
    "\n",
    "# Strip unwanted columns:\n",
    "reddit_submissions_column_dict = (lambda columns_dict: {k:columns_dict[k] for k in columns_dict if columns_dict[k] in REQUIRED_COLUMNS})(reddit_submissions_column_dict)\n",
    "reddit_comments_column_dict = (lambda columns_dict: {k:columns_dict[k] for k in columns_dict if columns_dict[k] in REQUIRED_COLUMNS})(reddit_comments_column_dict)\n",
    "fourchan_column_dict = (lambda columns_dict: {k:columns_dict[k] for k in columns_dict if columns_dict[k] in REQUIRED_COLUMNS})(fourchan_column_dict)\n",
    "brandwatch_column_dict = (lambda columns_dict: {k:columns_dict[k] for k in columns_dict if columns_dict[k] in REQUIRED_COLUMNS})(brandwatch_column_dict)"
   ]
  },
  {
   "cell_type": "code",
   "execution_count": 11,
   "id": "9236afce",
   "metadata": {},
   "outputs": [
    {
     "data": {
      "text/plain": [
       "{'author': 'source_user_id',\n",
       " 'datetime': 'datetime',\n",
       " 'id': 'source_msg_id',\n",
       " 'selftext': 'content',\n",
       " 'title': 'title'}"
      ]
     },
     "execution_count": 11,
     "metadata": {},
     "output_type": "execute_result"
    }
   ],
   "source": [
    "reddit_submissions_column_dict"
   ]
  },
  {
   "cell_type": "code",
   "execution_count": 13,
   "id": "50a3b7d4",
   "metadata": {},
   "outputs": [
    {
     "data": {
      "text/plain": [
       "{'author': 'source_user_id',\n",
       " 'body': 'content',\n",
       " 'datetime': 'datetime',\n",
       " 'id': 'source_msg_id',\n",
       " 'parent_id': 'parent_source_msg_id'}"
      ]
     },
     "execution_count": 13,
     "metadata": {},
     "output_type": "execute_result"
    }
   ],
   "source": [
    "reddit_comments_column_dict"
   ]
  },
  {
   "cell_type": "code",
   "execution_count": 14,
   "id": "782ba013",
   "metadata": {},
   "outputs": [
    {
     "data": {
      "text/plain": [
       "{'com': 'content',\n",
       " 'extracted_poster_id': 'source_user_id',\n",
       " 'no': 'source_msg_id',\n",
       " 'datetime': 'datetime'}"
      ]
     },
     "execution_count": 14,
     "metadata": {},
     "output_type": "execute_result"
    }
   ],
   "source": [
    "fourchan_column_dict"
   ]
  },
  {
   "cell_type": "code",
   "execution_count": 15,
   "id": "2a064652",
   "metadata": {},
   "outputs": [
    {
     "data": {
      "text/plain": [
       "{'Date': 'datetime',\n",
       " 'Author': 'source_user_id',\n",
       " 'Full Text': 'content',\n",
       " 'Title': 'title',\n",
       " 'Thread Id': 'parent_source_msg_id',\n",
       " 'Thread Author': 'parent_source_user_id',\n",
       " 'Domain': 'platform',\n",
       " 'Expanded URLs': 'article_url',\n",
       " 'Url': 'source_msg_id'}"
      ]
     },
     "execution_count": 15,
     "metadata": {},
     "output_type": "execute_result"
    }
   ],
   "source": [
    "brandwatch_column_dict"
   ]
  },
  {
   "cell_type": "code",
   "execution_count": 16,
   "id": "303eeea2",
   "metadata": {},
   "outputs": [
    {
     "data": {
      "text/plain": [
       "{'article_url',\n",
       " 'parent_source_msg_id',\n",
       " 'parent_source_user_id',\n",
       " 'platform',\n",
       " 'title'}"
      ]
     },
     "execution_count": 16,
     "metadata": {},
     "output_type": "execute_result"
    }
   ],
   "source": [
    "set(REQUIRED_COLUMNS).difference(list(fourchan_column_dict.values()))"
   ]
  },
  {
   "cell_type": "code",
   "execution_count": 17,
   "id": "434fceaa",
   "metadata": {
    "scrolled": true
   },
   "outputs": [],
   "source": [
    "def read_domain_to_class_classification():\n",
    "    tufmdf = pd.read_csv(NEWS_DOMAIN_TUFM_FILE)\n",
    "    tufmdf.rename(columns={'Domain':'news_domain'}, inplace=True)\n",
    "    assert set(tufmdf['tufm_class'].unique()) == {'TF', 'TM', 'UF', 'UM'}, \"News domains should belong to one of the classes in {'TF', 'TM', 'UF', 'UM'}\"\n",
    "    news_domain_to_tufm_class = tufmdf.set_index('news_domain')['tufm_class'].to_dict()\n",
    "    del tufmdf\n",
    "    return news_domain_to_tufm_class\n",
    "\n",
    "news_domain_to_tufm_class = read_domain_to_class_classification()"
   ]
  },
  {
   "cell_type": "code",
   "execution_count": 20,
   "id": "874fb56c",
   "metadata": {},
   "outputs": [
    {
     "data": {
      "text/plain": [
       "<url_identifier.NewsDomainIdentifier at 0x7f8bb5a02c80>"
      ]
     },
     "execution_count": 20,
     "metadata": {},
     "output_type": "execute_result"
    }
   ],
   "source": [
    "news_domain_identifier = url_identifier.NewsDomainIdentifier(news_domain_to_tufm_class.keys())\n",
    "news_domain_identifier"
   ]
  },
  {
   "cell_type": "code",
   "execution_count": 22,
   "id": "ffc69ad8",
   "metadata": {},
   "outputs": [
    {
     "data": {
      "text/html": [
       "<div>\n",
       "<style scoped>\n",
       "    .dataframe tbody tr th:only-of-type {\n",
       "        vertical-align: middle;\n",
       "    }\n",
       "\n",
       "    .dataframe tbody tr th {\n",
       "        vertical-align: top;\n",
       "    }\n",
       "\n",
       "    .dataframe thead th {\n",
       "        text-align: right;\n",
       "    }\n",
       "</style>\n",
       "<table border=\"1\" class=\"dataframe\">\n",
       "  <thead>\n",
       "    <tr style=\"text-align: right;\">\n",
       "      <th></th>\n",
       "      <th>content</th>\n",
       "      <th>source_user_id</th>\n",
       "      <th>source_msg_id</th>\n",
       "      <th>datetime</th>\n",
       "      <th>platform</th>\n",
       "      <th>article_url</th>\n",
       "      <th>article_count</th>\n",
       "      <th>title</th>\n",
       "      <th>parent_source_msg_id</th>\n",
       "      <th>parent_source_user_id</th>\n",
       "    </tr>\n",
       "  </thead>\n",
       "  <tbody>\n",
       "    <tr>\n",
       "      <th>0</th>\n",
       "      <td>ELECTRONIC messages sent to Moscow on the day ...</td>\n",
       "      <td>w0ABfHYp</td>\n",
       "      <td>167211216</td>\n",
       "      <td>2018-04-08 12:16:09.000</td>\n",
       "      <td>4chan</td>\n",
       "      <td>[bbc.com]</td>\n",
       "      <td>1</td>\n",
       "      <td>None</td>\n",
       "      <td>None</td>\n",
       "      <td>None</td>\n",
       "    </tr>\n",
       "    <tr>\n",
       "      <th>1</th>\n",
       "      <td>The United Nations Security Council (UNSC) has...</td>\n",
       "      <td>9gTf6hzK</td>\n",
       "      <td>166870849</td>\n",
       "      <td>2018-04-05 19:29:42.000</td>\n",
       "      <td>4chan</td>\n",
       "      <td>[rt.com]</td>\n",
       "      <td>1</td>\n",
       "      <td>None</td>\n",
       "      <td>None</td>\n",
       "      <td>None</td>\n",
       "    </tr>\n",
       "    <tr>\n",
       "      <th>2</th>\n",
       "      <td>The United Nations Security Council (UNSC) has...</td>\n",
       "      <td>9gTf6hzK</td>\n",
       "      <td>166870849</td>\n",
       "      <td>2018-04-05 19:29:42.000</td>\n",
       "      <td>4chan</td>\n",
       "      <td>[rt.com]</td>\n",
       "      <td>1</td>\n",
       "      <td>None</td>\n",
       "      <td>None</td>\n",
       "      <td>None</td>\n",
       "    </tr>\n",
       "    <tr>\n",
       "      <th>3</th>\n",
       "      <td>The United Nations Security Council (UNSC) has...</td>\n",
       "      <td>9gTf6hzK</td>\n",
       "      <td>166870849</td>\n",
       "      <td>2018-04-05 19:29:42.000</td>\n",
       "      <td>4chan</td>\n",
       "      <td>[rt.com]</td>\n",
       "      <td>1</td>\n",
       "      <td>None</td>\n",
       "      <td>None</td>\n",
       "      <td>None</td>\n",
       "    </tr>\n",
       "    <tr>\n",
       "      <th>4</th>\n",
       "      <td>The United Nations Security Council (UNSC) has...</td>\n",
       "      <td>9gTf6hzK</td>\n",
       "      <td>166870849</td>\n",
       "      <td>2018-04-05 19:29:42.000</td>\n",
       "      <td>4chan</td>\n",
       "      <td>[rt.com]</td>\n",
       "      <td>1</td>\n",
       "      <td>None</td>\n",
       "      <td>None</td>\n",
       "      <td>None</td>\n",
       "    </tr>\n",
       "    <tr>\n",
       "      <th>...</th>\n",
       "      <td>...</td>\n",
       "      <td>...</td>\n",
       "      <td>...</td>\n",
       "      <td>...</td>\n",
       "      <td>...</td>\n",
       "      <td>...</td>\n",
       "      <td>...</td>\n",
       "      <td>...</td>\n",
       "      <td>...</td>\n",
       "      <td>...</td>\n",
       "    </tr>\n",
       "    <tr>\n",
       "      <th>773</th>\n",
       "      <td>ELECTRONIC messages sent to Moscow on the day ...</td>\n",
       "      <td>w0ABfHYp</td>\n",
       "      <td>167211216</td>\n",
       "      <td>2018-04-08 12:16:09.000</td>\n",
       "      <td>4chan</td>\n",
       "      <td>[bbc.com]</td>\n",
       "      <td>1</td>\n",
       "      <td>None</td>\n",
       "      <td>None</td>\n",
       "      <td>None</td>\n",
       "    </tr>\n",
       "    <tr>\n",
       "      <th>774</th>\n",
       "      <td>ELECTRONIC messages sent to Moscow on the day ...</td>\n",
       "      <td>w0ABfHYp</td>\n",
       "      <td>167211216</td>\n",
       "      <td>2018-04-08 12:16:09.000</td>\n",
       "      <td>4chan</td>\n",
       "      <td>[bbc.com]</td>\n",
       "      <td>1</td>\n",
       "      <td>None</td>\n",
       "      <td>None</td>\n",
       "      <td>None</td>\n",
       "    </tr>\n",
       "    <tr>\n",
       "      <th>775</th>\n",
       "      <td>ELECTRONIC messages sent to Moscow on the day ...</td>\n",
       "      <td>w0ABfHYp</td>\n",
       "      <td>167211216</td>\n",
       "      <td>2018-04-08 12:16:09.000</td>\n",
       "      <td>4chan</td>\n",
       "      <td>[bbc.com]</td>\n",
       "      <td>1</td>\n",
       "      <td>None</td>\n",
       "      <td>None</td>\n",
       "      <td>None</td>\n",
       "    </tr>\n",
       "    <tr>\n",
       "      <th>776</th>\n",
       "      <td>ELECTRONIC messages sent to Moscow on the day ...</td>\n",
       "      <td>w0ABfHYp</td>\n",
       "      <td>167211216</td>\n",
       "      <td>2018-04-08 12:16:09.000</td>\n",
       "      <td>4chan</td>\n",
       "      <td>[bbc.com]</td>\n",
       "      <td>1</td>\n",
       "      <td>None</td>\n",
       "      <td>None</td>\n",
       "      <td>None</td>\n",
       "    </tr>\n",
       "    <tr>\n",
       "      <th>777</th>\n",
       "      <td>ELECTRONIC messages sent to Moscow on the day ...</td>\n",
       "      <td>w0ABfHYp</td>\n",
       "      <td>167211216</td>\n",
       "      <td>2018-04-08 12:16:09.000</td>\n",
       "      <td>4chan</td>\n",
       "      <td>[bbc.com]</td>\n",
       "      <td>1</td>\n",
       "      <td>None</td>\n",
       "      <td>None</td>\n",
       "      <td>None</td>\n",
       "    </tr>\n",
       "  </tbody>\n",
       "</table>\n",
       "<p>778 rows × 10 columns</p>\n",
       "</div>"
      ],
      "text/plain": [
       "                                               content source_user_id  \\\n",
       "0    ELECTRONIC messages sent to Moscow on the day ...       w0ABfHYp   \n",
       "1    The United Nations Security Council (UNSC) has...       9gTf6hzK   \n",
       "2    The United Nations Security Council (UNSC) has...       9gTf6hzK   \n",
       "3    The United Nations Security Council (UNSC) has...       9gTf6hzK   \n",
       "4    The United Nations Security Council (UNSC) has...       9gTf6hzK   \n",
       "..                                                 ...            ...   \n",
       "773  ELECTRONIC messages sent to Moscow on the day ...       w0ABfHYp   \n",
       "774  ELECTRONIC messages sent to Moscow on the day ...       w0ABfHYp   \n",
       "775  ELECTRONIC messages sent to Moscow on the day ...       w0ABfHYp   \n",
       "776  ELECTRONIC messages sent to Moscow on the day ...       w0ABfHYp   \n",
       "777  ELECTRONIC messages sent to Moscow on the day ...       w0ABfHYp   \n",
       "\n",
       "     source_msg_id                 datetime platform article_url  \\\n",
       "0        167211216  2018-04-08 12:16:09.000    4chan   [bbc.com]   \n",
       "1        166870849  2018-04-05 19:29:42.000    4chan    [rt.com]   \n",
       "2        166870849  2018-04-05 19:29:42.000    4chan    [rt.com]   \n",
       "3        166870849  2018-04-05 19:29:42.000    4chan    [rt.com]   \n",
       "4        166870849  2018-04-05 19:29:42.000    4chan    [rt.com]   \n",
       "..             ...                      ...      ...         ...   \n",
       "773      167211216  2018-04-08 12:16:09.000    4chan   [bbc.com]   \n",
       "774      167211216  2018-04-08 12:16:09.000    4chan   [bbc.com]   \n",
       "775      167211216  2018-04-08 12:16:09.000    4chan   [bbc.com]   \n",
       "776      167211216  2018-04-08 12:16:09.000    4chan   [bbc.com]   \n",
       "777      167211216  2018-04-08 12:16:09.000    4chan   [bbc.com]   \n",
       "\n",
       "     article_count title parent_source_msg_id parent_source_user_id  \n",
       "0                1  None                 None                  None  \n",
       "1                1  None                 None                  None  \n",
       "2                1  None                 None                  None  \n",
       "3                1  None                 None                  None  \n",
       "4                1  None                 None                  None  \n",
       "..             ...   ...                  ...                   ...  \n",
       "773              1  None                 None                  None  \n",
       "774              1  None                 None                  None  \n",
       "775              1  None                 None                  None  \n",
       "776              1  None                 None                  None  \n",
       "777              1  None                 None                  None  \n",
       "\n",
       "[778 rows x 10 columns]"
      ]
     },
     "execution_count": 22,
     "metadata": {},
     "output_type": "execute_result"
    }
   ],
   "source": [
    "df = pd.read_csv(\"s3://\" + s3.glob(os.path.join(INPUT_4CHAN_DIR, \"fourchan*.csv*\"))[0], usecols=list(fourchan_column_dict.keys()))\n",
    "df.rename(columns=fourchan_column_dict, inplace=True)\n",
    "df['platform'] = '4chan'\n",
    "df['article_url'] = df['content'].apply(lambda x:  news_domain_identifier.find_all_matches(x) )\n",
    "df['article_count'] = df['article_url'].apply(lambda x: len(x))\n",
    "df['title'] = None\n",
    "df['parent_source_msg_id'] = None\n",
    "df['parent_source_user_id'] = None\n",
    "df"
   ]
  },
  {
   "cell_type": "code",
   "execution_count": null,
   "id": "323a1939",
   "metadata": {},
   "outputs": [],
   "source": [
    "df[df['article_count'] < 1]"
   ]
  },
  {
   "cell_type": "code",
   "execution_count": null,
   "id": "9293d3fd",
   "metadata": {},
   "outputs": [],
   "source": [
    "\n"
   ]
  },
  {
   "cell_type": "code",
   "execution_count": null,
   "id": "0eab7797",
   "metadata": {
    "scrolled": true
   },
   "outputs": [],
   "source": [
    "news_domain_to_tufm_class.keys()"
   ]
  },
  {
   "cell_type": "code",
   "execution_count": null,
   "id": "5af87adb",
   "metadata": {},
   "outputs": [],
   "source": []
  },
  {
   "cell_type": "code",
   "execution_count": null,
   "id": "40c8dcca",
   "metadata": {},
   "outputs": [],
   "source": [
    "# dfcomm.iloc[:100].apply(lambda row: row['parent_source_msg_id'], axis=1)"
   ]
  },
  {
   "cell_type": "code",
   "execution_count": null,
   "id": "6babcb03",
   "metadata": {},
   "outputs": [],
   "source": [
    "set(brandwatch_column_dict.keys())"
   ]
  },
  {
   "cell_type": "code",
   "execution_count": null,
   "id": "f2a5a643",
   "metadata": {},
   "outputs": [],
   "source": [
    "set(['Date','Author','Full Text', 'Title','Thread Id', 'Thread Author','Domain', 'Expanded URLs','Url'])"
   ]
  },
  {
   "cell_type": "code",
   "execution_count": null,
   "id": "ba33c6bd",
   "metadata": {},
   "outputs": [],
   "source": [
    "# dfposts[dfposts['source_msg_id'] == 't3_8hn80w']\n",
    "\n",
    "#usecols=['Date','Author','Full Text', 'Title','Thread Id', 'Thread Author','Domain', 'Expanded URLs','Url']"
   ]
  },
  {
   "cell_type": "code",
   "execution_count": null,
   "id": "f0178ce5",
   "metadata": {},
   "outputs": [],
   "source": [
    "def read_4chan_data(data_directory, filter_platform_domain_set, is_using_s3):\n",
    "    \"\"\"\n",
    "    Reads data from all the csv files in the given directory\n",
    "    :param data_directory: Path to the directory that contains the csv files\n",
    "    :type data_directory: str\n",
    "    :return: pandas Dataframe that contains all the data from all csv files\n",
    "    :rtype: pd.Dataframe\n",
    "    \"\"\"\n",
    "    data_files = []\n",
    "    if is_using_s3:\n",
    "        data_files = s3.glob(os.path.join(data_directory, \"*.csv*\"))\n",
    "    else:\n",
    "        data_files = glob.glob(os.path.join(data_directory, \"*.csv*\"))\n",
    "    prefix_path = ''\n",
    "    if is_using_s3:\n",
    "        prefix_path = 's3://'\n",
    "    print(data_files)\n",
    "    df_list = []\n",
    "    for idx, file in enumerate(data_files):\n",
    "        print(f\"Reading {idx + 1} of {len(data_files)} files.\\nFile name: {file}\")\n",
    "        df = pd.read_csv(prefix_path + data_files[idx], skiprows=6, parse_dates=['Date'],\n",
    "                         dtype={'Twitter Author ID': str, 'Author':str,\n",
    "                                'Full Text':str, 'Title':str,\n",
    "                                'Thread Id':str, 'Thread Author':str,\n",
    "                                'Domain':str, 'Expanded URLs':str,\n",
    "                                'Avatar':str, 'Parent Blog Name':str, 'Root Blog Name':str},\n",
    "                         usecols=['Date', 'Author', 'Full Text', 'Title', 'Thread Id',\n",
    "                                  'Thread Author', 'Domain', 'Expanded URLs', 'Url']\n",
    "                         )\n",
    "        # df = df[['Date', 'Hashtags', 'Twitter Author ID', 'Author', 'Url', 'Thread Id', 'Thread Author', 'Domain']]\n",
    "        df = df.rename(columns=brandwatch_column_dict)\n",
    "        df_list.append(df)\n",
    "        \n",
    "    start_time = time.time() \n",
    "    result_df = pd.concat(df_list)\n",
    "    end_time = time.time() \n",
    "    print(f\"{(end_time - start_time)/60} mins for concat dataframes\")\n",
    "    \n",
    "    start_time = time.time() \n",
    "    result_df.drop_duplicates(subset='source_msg_id', keep=\"first\", inplace=True)\n",
    "    end_time = time.time() \n",
    "    print(f\"{(end_time - start_time)/60} mins for drop duplicates\")\n",
    "    \n",
    "    start_time = time.time()\n",
    "    if SAVE_OUTPUT_FILES:\n",
    "        result_df['platform'].value_counts().rename('users_count').rename_axis('platform').to_csv(OUTPUT_PLATFORM_COUNTS_FILE)\n",
    "    result_df = result_df[result_df['platform'].isin(filter_platform_domain_set)]\n",
    "    end_time = time.time() \n",
    "    print(f\"{(end_time - start_time)/60} mins for filtering platforms\")\n",
    "    \n",
    "    result_df.reset_index(drop=True, inplace=True)\n",
    "    print(result_df.shape)\n",
    "    return result_df"
   ]
  },
  {
   "cell_type": "code",
   "execution_count": null,
   "id": "d5c41528",
   "metadata": {},
   "outputs": [],
   "source": [
    "def read_brandwatch_data(data_directory, filter_platform_domain_set, is_using_s3):\n",
    "    \"\"\"\n",
    "    Reads data from all the csv files in the given directory\n",
    "    :param data_directory: Path to the directory that contains the csv files\n",
    "    :type data_directory: str\n",
    "    :return: pandas Dataframe that contains all the data from all csv files\n",
    "    :rtype: pd.Dataframe\n",
    "    \"\"\"\n",
    "    data_files = []\n",
    "    if is_using_s3:\n",
    "        data_files = s3.glob(os.path.join(data_directory, \"*.csv*\"))\n",
    "    else:\n",
    "        data_files = glob.glob(os.path.join(data_directory, \"*.csv*\"))\n",
    "    prefix_path = ''\n",
    "    if is_using_s3:\n",
    "        prefix_path = 's3://'\n",
    "    print(data_files)\n",
    "    df_list = []\n",
    "    for idx, file in enumerate(data_files):\n",
    "        print(f\"Reading {idx + 1} of {len(data_files)} files.\\nFile name: {file}\")\n",
    "        df = pd.read_csv(prefix_path + data_files[idx], skiprows=6, parse_dates=['Date'],\n",
    "                         dtype={'Twitter Author ID': str, 'Author':str,\n",
    "                                'Full Text':str, 'Title':str,\n",
    "                                'Thread Id':str, 'Thread Author':str,\n",
    "                                'Domain':str, 'Expanded URLs':str,\n",
    "                                'Avatar':str, 'Parent Blog Name':str, 'Root Blog Name':str},\n",
    "                         usecols=['Date', 'Author', 'Full Text', 'Title', 'Thread Id',\n",
    "                                  'Thread Author', 'Domain', 'Expanded URLs', 'Url']\n",
    "                         )\n",
    "        # df = df[['Date', 'Hashtags', 'Twitter Author ID', 'Author', 'Url', 'Thread Id', 'Thread Author', 'Domain']]\n",
    "        df = df.rename(columns=brandwatch_column_dict)\n",
    "        df_list.append(df)\n",
    "        \n",
    "    start_time = time.time() \n",
    "    result_df = pd.concat(df_list)\n",
    "    end_time = time.time() \n",
    "    print(f\"{(end_time - start_time)/60} mins for concat dataframes\")\n",
    "    \n",
    "    start_time = time.time() \n",
    "    result_df.drop_duplicates(subset='source_msg_id', keep=\"first\", inplace=True)\n",
    "    end_time = time.time() \n",
    "    print(f\"{(end_time - start_time)/60} mins for drop duplicates\")\n",
    "    \n",
    "    start_time = time.time()\n",
    "    if SAVE_OUTPUT_FILES:\n",
    "        result_df['platform'].value_counts().rename('users_count').rename_axis('platform').to_csv(OUTPUT_PLATFORM_COUNTS_FILE)\n",
    "    result_df = result_df[result_df['platform'].isin(filter_platform_domain_set)]\n",
    "    end_time = time.time() \n",
    "    print(f\"{(end_time - start_time)/60} mins for filtering platforms\")\n",
    "    \n",
    "    result_df.reset_index(drop=True, inplace=True)\n",
    "    print(result_df.shape)\n",
    "    return result_df"
   ]
  },
  {
   "cell_type": "code",
   "execution_count": null,
   "id": "38d9bbeb",
   "metadata": {
    "scrolled": true
   },
   "outputs": [],
   "source": [
    "%%time\n",
    "# read data and filter for only the KNOWN_PLATFORMS\n",
    "all_osn_msgs_df = read_brandwatch_data(INPUT_BRANDWATCH_DIR, KNOWN_PLATFORMS, RUNNING_IN_S3)\n",
    "all_osn_msgs_df"
   ]
  },
  {
   "cell_type": "code",
   "execution_count": null,
   "id": "49ee490e",
   "metadata": {},
   "outputs": [],
   "source": [
    "#all_osn_msgs_df = all_osn_msgs_df[ourcols]\n",
    "all_osn_msgs_df"
   ]
  },
  {
   "cell_type": "code",
   "execution_count": null,
   "id": "c2ff26a1",
   "metadata": {},
   "outputs": [],
   "source": [
    "all_osn_msgs_df = all_osn_msgs_df[(all_osn_msgs_df[\"datetime\"] >= datetime.datetime(2018,3,1)) & (all_osn_msgs_df[\"datetime\"] <= datetime.datetime(2018,5,1))].reset_index(drop=True)\n",
    "all_osn_msgs_df"
   ]
  },
  {
   "cell_type": "code",
   "execution_count": null,
   "id": "fde4a726",
   "metadata": {},
   "outputs": [],
   "source": [
    "all_osn_msgs_df[all_osn_msgs_df[\"source_user_id\"] == \"sodrugestvo2\"].set_index(\"datetime\")"
   ]
  },
  {
   "cell_type": "code",
   "execution_count": null,
   "id": "17d893fe",
   "metadata": {},
   "outputs": [],
   "source": [
    "min_time = all_osn_msgs_df[\"datetime\"].min()\n",
    "print(min_time)\n",
    "max_time = all_osn_msgs_df[\"datetime\"].max()\n",
    "print(max_time)\n",
    "#"
   ]
  },
  {
   "cell_type": "code",
   "execution_count": null,
   "id": "ba9b2bdf",
   "metadata": {},
   "outputs": [],
   "source": [
    "standard_index = pd.DatetimeIndex(pd.date_range(start=datetime.datetime(2018,3,1), end=datetime.datetime(2018,5,1), freq='H'))\n",
    "standard_index"
   ]
  },
  {
   "cell_type": "code",
   "execution_count": null,
   "id": "87677ad0",
   "metadata": {},
   "outputs": [],
   "source": [
    "dtmsg = all_osn_msgs_df.set_index(\"datetime\")[[\"source_user_id\",\"source_msg_id\"]]\n",
    "dtmsg"
   ]
  },
  {
   "cell_type": "code",
   "execution_count": null,
   "id": "ee55a028",
   "metadata": {},
   "outputs": [],
   "source": [
    "all_osn_msgs_df[all_osn_msgs_df[\"source_user_id\"] == \"sodrugestvo2\"].set_index(\"datetime\")[\"source_user_id\"].resample('15D', origin=datetime.datetime(2018,3,1)).count().reindex(standard_index, fill_value=0)"
   ]
  },
  {
   "cell_type": "code",
   "execution_count": null,
   "id": "a2d61872",
   "metadata": {},
   "outputs": [],
   "source": [
    "dtmsg[dtmsg[\"source_user_id\"] == \"sodrugestvo2\"].resample('15D', origin=datetime.datetime(2018,3,1)).count().reindex(standard_index, fill_value=0)"
   ]
  },
  {
   "cell_type": "code",
   "execution_count": null,
   "id": "77e729be",
   "metadata": {},
   "outputs": [],
   "source": [
    "requested_data = dtmsg.groupby(\"source_user_id\").apply(lambda g: g.resample('H', origin=datetime.datetime(2018,3,1)).count().reindex(standard_index, fill_value=0))[\"source_msg_id\"].rename_axis(['username','timeval']).reset_index()\n",
    "requested_data"
   ]
  },
  {
   "cell_type": "code",
   "execution_count": null,
   "id": "6347719d",
   "metadata": {},
   "outputs": [],
   "source": [
    "pvt = requested_data.pivot(index=\"timeval\", columns=\"username\", values=\"source_msg_id\")\n",
    "pvt"
   ]
  },
  {
   "cell_type": "code",
   "execution_count": null,
   "id": "aa7308c6",
   "metadata": {},
   "outputs": [],
   "source": [
    "pvt.to_csv(\"user_post_by_hour.csv\")"
   ]
  },
  {
   "cell_type": "code",
   "execution_count": null,
   "id": "e406df65",
   "metadata": {},
   "outputs": [],
   "source": [
    "requested_data"
   ]
  },
  {
   "cell_type": "code",
   "execution_count": null,
   "id": "956e9679",
   "metadata": {},
   "outputs": [],
   "source": [
    "5"
   ]
  },
  {
   "cell_type": "code",
   "execution_count": null,
   "id": "ff1a3d01",
   "metadata": {},
   "outputs": [],
   "source": [
    "%%time\n",
    "# add user_id column and parent_user_id column\n",
    "\n",
    "def generate_users_dict(in_osn_msgs_df):\n",
    "    global next_user_id\n",
    "    users_data = {}\n",
    "    next_user_id = 0\n",
    "    def extract_user(row):\n",
    "        global next_user_id\n",
    "        if (row['platform'], row['source_user_id']) not in users_data:\n",
    "            users_data[(row['platform'], row['source_user_id'])] = next_user_id\n",
    "            next_user_id += 1\n",
    "        if (row['platform'], row['parent_source_user_id']) not in users_data:\n",
    "            users_data[(row['platform'], row['parent_source_user_id'])] = next_user_id\n",
    "            next_user_id += 1\n",
    "    in_osn_msgs_df.apply(lambda row: extract_user(row), axis=1)\n",
    "    print(len(users_data))\n",
    "    return users_data\n",
    "\n",
    "users_data = generate_users_dict(all_osn_msgs_df)\n",
    "\n",
    "users_df = pd.Series(users_data).rename_axis(['platform','source_user_id']).rename('user_id').reset_index()\n",
    "print(users_df.shape)\n",
    "print(users_df)\n",
    "if SAVE_OUTPUT_FILES:\n",
    "    users_df.to_csv(OUTPUT_USERS_FILE,index=False)\n",
    "\n",
    "# add user_id column and parent_user_id column\n",
    "all_osn_msgs_df[['user_id','parent_user_id']] = all_osn_msgs_df.apply(lambda row: pd.Series([\n",
    "            users_data[(row['platform'],row['source_user_id'])],\n",
    "            users_data[(row['platform'],row['parent_source_user_id'])]\n",
    "        ]), axis = 1)"
   ]
  },
  {
   "cell_type": "code",
   "execution_count": null,
   "id": "0c1a7951",
   "metadata": {},
   "outputs": [],
   "source": [
    "%%time\n",
    "# Add news_domains column\n",
    "\n",
    "def find_patterns_for_domains(in_news_domains_csv_file, in_skip_strings):\n",
    "    news_domains = pd.read_csv(in_news_domains_csv_file)['news outlets'].rename('news_outlets')\n",
    "    news_domains_set = set(news_domains.to_list())\n",
    "    pattern_to_news_domain_name = {re.compile(nd):nd for nd in news_domains_set}\n",
    "    for nd in news_domains_set:\n",
    "        valid_split_strs = set(nd.split('.'))\n",
    "        for e in in_skip_strings:\n",
    "            valid_split_strs.discard(e)\n",
    "        for sp in valid_split_strs:\n",
    "            if len(sp) > 2:\n",
    "                pattern_to_news_domain_name[re.compile(sp)] = nd\n",
    "    return pattern_to_news_domain_name\n",
    "\n",
    "def search_domain_in_string(in_expanded_url, in_news_domains_names):\n",
    "    # print(in_expanded_url)\n",
    "    max_len_match = None\n",
    "    max_len_found = 0\n",
    "    for ndn in in_news_domains_names:\n",
    "        match_obj = ndn.search(in_expanded_url)\n",
    "        if match_obj:\n",
    "            # print(match_obj, in_news_domains_names[ndn], match_obj.end() - match_obj.start())\n",
    "            if max_len_found < match_obj.end() - match_obj.start():\n",
    "                max_len_match = ndn\n",
    "                max_len_found = match_obj.end() - match_obj.start()\n",
    "    return in_news_domains_names[max_len_match] if max_len_match is not None else None\n",
    "\n",
    "\n",
    "def calculate_news_domain_series(in_string_series, in_skip_strings):\n",
    "    news_domains_names = find_patterns_for_domains(NEWS_DOMAINS_CSV_FILE, in_skip_strings)\n",
    "    return in_string_series.apply(lambda x: search_domain_in_string(x, news_domains_names) if type(x) is str else None)\n",
    "\n",
    "all_osn_msgs_df['news_domain'] = calculate_news_domain_series(all_osn_msgs_df['article_url'], skip_strings)\n",
    "all_osn_msgs_df = all_osn_msgs_df.loc[all_osn_msgs_df['news_domain'].notnull(), :]"
   ]
  },
  {
   "cell_type": "code",
   "execution_count": null,
   "id": "639acbd0",
   "metadata": {},
   "outputs": [],
   "source": [
    "link_regex = re.compile(\"((https?):((//)|(\\\\\\\\))+([\\w\\d:#@%/;$()~_?\\+-=\\\\\\.&](#!)?)*)\", re.DOTALL)"
   ]
  },
  {
   "cell_type": "code",
   "execution_count": null,
   "id": "683e3ced",
   "metadata": {},
   "outputs": [],
   "source": [
    "links = re.findall(link_regex, df['content'].iloc[100])\n",
    "links"
   ]
  },
  {
   "cell_type": "code",
   "execution_count": null,
   "id": "4c9b52b7",
   "metadata": {},
   "outputs": [],
   "source": [
    "df['content'].iloc[100]"
   ]
  },
  {
   "cell_type": "code",
   "execution_count": null,
   "id": "c470cfeb",
   "metadata": {},
   "outputs": [],
   "source": [
    "links[0][0]"
   ]
  },
  {
   "cell_type": "code",
   "execution_count": null,
   "id": "10166410",
   "metadata": {},
   "outputs": [],
   "source": [
    "4+5"
   ]
  },
  {
   "cell_type": "code",
   "execution_count": null,
   "id": "b678b16e",
   "metadata": {},
   "outputs": [],
   "source": []
  },
  {
   "cell_type": "code",
   "execution_count": null,
   "id": "b373fc30",
   "metadata": {},
   "outputs": [],
   "source": []
  },
  {
   "cell_type": "code",
   "execution_count": null,
   "id": "370b8142",
   "metadata": {},
   "outputs": [],
   "source": [
    "ndi.find_all_matches(df['content'].iloc[100])"
   ]
  },
  {
   "cell_type": "code",
   "execution_count": null,
   "id": "58735959",
   "metadata": {},
   "outputs": [],
   "source": [
    "pattern_to_news_domain_name"
   ]
  },
  {
   "cell_type": "code",
   "execution_count": null,
   "id": "999feeaa",
   "metadata": {},
   "outputs": [],
   "source": [
    "find_all_matches(df['content'].iloc[100], pattern_to_news_domain_prio)"
   ]
  },
  {
   "cell_type": "code",
   "execution_count": null,
   "id": "7a5b58e7",
   "metadata": {},
   "outputs": [],
   "source": []
  },
  {
   "cell_type": "code",
   "execution_count": null,
   "id": "629be65e",
   "metadata": {
    "scrolled": true
   },
   "outputs": [],
   "source": []
  },
  {
   "cell_type": "code",
   "execution_count": null,
   "id": "bb4645f2",
   "metadata": {},
   "outputs": [],
   "source": [
    "# add TUFMClass to osn messages table\n",
    "all_osn_msgs_df['class'] = all_osn_msgs_df['news_domain'].apply(lambda x: news_domain_to_tufm_class[x] if x in news_domain_to_tufm_class else 'XX')\n",
    "all_osn_msgs_df = all_osn_msgs_df[all_osn_msgs_df['class'] != 'XX']\n",
    "print(all_osn_msgs_df['class'].unique())\n",
    "\n",
    "# # filter by required news urls\n",
    "# # filtering_urls = ['https://sputniknews.com/europe/201804171063638574-us-allies-skripal-case/',\n",
    "# #  'https://www.independent.co.uk/news/uk/crime/salisbury-polisoning-latest-police-security-barriers-cordons-sergei-skripal-nerve-agent-a8308456.html',\n",
    "# #  'http://www.bbc.co.uk/news/uk-43798068',\n",
    "# #  'http://www.bbc.com/news/uk-43798068',\n",
    "# #  'https://www.theguardian.com/uk-news/2018/apr/17/nerve-agent-used-to-attack-sergei-skripal-was-liquid-says-defra']\n",
    "# #all_osn_msgs_df[all_osn_msgs_df['article_url'].isin(filtering_urls)]\n",
    "# uoi = ['https://foreignpolicy.com/2018/03/27/britain-has-no-clue-why-its-punishing-russia/',\n",
    "#        'https://www.nytimes.com/2018/03/29/world/europe/britain-yulia-skripal-hospital.html?smid=tw-nytimesworld&smtyp=cur',\n",
    "#        'https://www.nbcnews.com/news/world/russian-ex-spy-says-he-was-kremlin-hit-list-along-n860641?cid=sm_npd_ms_tw_ma',\n",
    "#        'https://www.nbcnews.com/news/world/russian-ex-spy-says-he-was-kremlin-hit-list-along-n860641?cid=sm_npd_nn_tw_ma',\n",
    "#        'https://www.nbcnews.com/news/world/russian-ex-spy-says-he-was-kremlin-hit-list-along-n860641',\n",
    "#        'https://www.nbcnews.com/news/world/yulia-skripal-daughter-russian-ex-spy-poisoned-u-k-no-n861141?cid=sm_npd_nn_tw_ma',\n",
    "#        'https://wtop.com/j-j-green-national/2018/03/kremlin-deflects-blame-skripal-poisoning-accuses-businessman/',\n",
    "#        'https://voxpoliticalonline.com/2018/03/29/nerve-agent-smeared-in-large-quantities-on-skripal-front-door-then-how-is-yulia-getting-better/',\n",
    "#        'https://www.theguardian.com/uk-news/2018/mar/29/russia-accuses-uk-of-violating-international-law-skripal-case',\n",
    "#        'https://www.nbcnews.com/news/world/yulia-skripal-daughter-russian-ex-spy-poisoned-u-k-no-n861141?cid=sm_npd_ms_tw_ma',\n",
    "#        'http://www.bbc.co.uk/news/uk-43588450, https://www.theguardian.com/uk-news/2018/mar/29/russia-accuses-uk-of-violating-international-law-skripal-case',\n",
    "#        'http://www.bbc.com/news/uk-43588450',\n",
    "#        'https://www.theguardian.com/uk-news/2018/mar/28/skripals-poisoned-from-front-door-of-salisbury-home-police-say?CMP=twt_gu',\n",
    "#        'https://www.independent.co.uk/news/uk/crime/sergei-skripal-salisbury-poison-nerve-agent-russia-daughter-attack-novichok-front-door-home-a8278631.html',\n",
    "#        'https://www.theguardian.com/uk-news/2018/mar/29/russia-accuses-uk-of-violating-international-law-skripal-case?utm_term=Autofeed&CMP=twt_b-gdnnews#link_time=1522348151',\n",
    "#        'https://www.theguardian.com/uk-news/2018/mar/29/yulia-skripal-no-longer-in-critical-condition-says-salisbury-nhs?CMP=share_btn_tw',\n",
    "#        'https://www.theguardian.com/uk-news/2018/mar/29/yulia-skripal-no-longer-in-critical-condition-says-salisbury-nhs?utm_term=Autofeed&CMP=twt_b-gdnnews#link_time=1522348157',\n",
    "#        'https://twitter.com/bbcnews/status/979363446054621184',\n",
    "#        'https://www.theguardian.com/uk-news/2018/mar/29/yulia-skripal-no-longer-in-critical-condition-says-salisbury-nhs',\n",
    "#        'http://www.bbc.co.uk/news/uk-43588450',\n",
    "#        'http://www.euronews.com/2018/03/29/russian-denials-over-skripal-ludicrous-claims-johnson?utm_campaign=Echobox&utm_medium=Social&utm_source=Twitter#link_time=1522340777',\n",
    "#        'https://www.independent.co.uk/news/uk/crime/yulia-skripal-latest-nerve-agent-critical-condition-salisbvury-poisoning-russia-spy-a8279761.html',\n",
    "#        'https://twitter.com/bbcdaniels/status/979359954552479744',\n",
    "#        'https://www.rt.com/uk/422560-national-security-review-propaganda/',\n",
    "#        'https://www.nytimes.com/2018/03/28/world/europe/poison-skripal-russia.html?smid=tw-nytimes&smtyp=cur',\n",
    "#        'https://www.nbcnews.com/news/world/police-say-russian-ex-spy-sergei-skripal-daughter-likely-poisoned-n860966?cid=sm_npd_nn_tw_ma',\n",
    "#        'https://www.thedailybeast.com/sergei-skripal-was-likely-poisoned-by-nerve-agent-on-his-front-door?via=twitter_page',\n",
    "#        'http://www.bbc.co.uk/news/uk-43577987',\n",
    "#        'https://www.bloomberg.com/view/articles/2018-03-28/the-west-s-response-to-russia-after-skripal-attack-is-too-mild',\n",
    "#        'https://www.independent.co.uk/news/uk/crime/sergei-skripal-salisbury-poison-nerve-agent-russia-daughter-attack-novichok-front-door-home-a8278631.html?utm_campaign=Echobox&utm_medium=Social&utm_source=Twitter',\n",
    "#        'https://www.rt.com/news/422514-zeman-skripal-uk-facts/',\n",
    "#        'http://www.dailymail.co.uk/news/article-5552693/Sergei-Skripal-daughter-allowed-die.html',\n",
    "#        'https://www.rt.com/news/422529-uk-embassy-presentation-skripal/',\n",
    "#        'https://talkingpointsmemo.com/world-news/daughter-ex-russian-spy-poisoned-nerve-agent-attack-out-of-critical-condition',\n",
    "#        'http://www.dailymail.co.uk/news/article-5558445/Investigators-remove-poisoned-spy-Sergei-Skripals-door.html#ixzz5BEST2ENe',\n",
    "#        'https://www.facebook.com/bbcnewsnight/videos/10155465289046200/',\n",
    "#        'https://www.thetimes.co.uk/edition/news/hopes-rise-as-yulia-skripal-is-taken-off-critical-list-nm52vvdrj?CMP=Sprkr-_-Editorial-_-thetimes-_-Unspecified-_-TWITTER',\n",
    "#        'http://www.dailymail.co.uk/news/article-5573751/Skripal-family-call-Britain-make-clear-happened-ex-spys-beloved-pets.html',\n",
    "#        'https://www.theguardian.com/uk-news/2018/apr/03/porton-down-experts-unable-to-verify-precise-source-of-novichok',\n",
    "#        'http://skwawkbox.org/2018/04/03/of-course-bbcs-coverage-of-johnsons-novichoklie-is-fine-no-need-to-share-this-video/',\n",
    "#        'https://www.rt.com/uk/423075-porton-down-skripal-proof/',\n",
    "#        'http://www.dailymail.co.uk/news/article-5570327/Yulia-Skripal-poisoned-days-gaining-access-secret-150-000-bank-account.html',\n",
    "#        'https://www.cnn.com/2018/04/03/europe/skripal-poisoning-uk-nerve-agent-intl/index.html?sr=twCNN040318skripal-poisoning-uk-nerve-agent-intl0352PMVODtop',\n",
    "#        'https://apple.news/AvVsMpO-FSqaTb7sz01Xbcw',\n",
    "#        'https://www.theguardian.com/world/2018/mar/22/andrei-zheleznyakov-soviet-scientist-poisoned-novichok',\n",
    "#        'https://www.theguardian.com/uk-news/2018/apr/03/porton-down-experts-unable-to-verify-precise-source-of-novichok?utm_term=Autofeed&CMP=twt_b-gdnnews#link_time=1522776092',\n",
    "#        'https://www.nytimes.com/2018/04/01/world/europe/russia-sergei-skripal-uk-spy-poisoning.html?rref=collection%2Fsectioncollection%2Fworld&action=click&contentCollection=world&region=rank&module=package&version=highlights&contentPlacement=2&pgtype=sectionfront',\n",
    "#        'http://www.newsweek.com/russian-defectors-america-putin-russia-threat-skripal-868013, https://twitter.com/danarohrabacher/status/980140617635278848',\n",
    "#        'https://www.theguardian.com/uk-news/2018/apr/02/salisbury-attack-sites-decontamination-russia-sergei-skripal?utm_term=Autofeed&CMP=twt_b-gdnnews#link_time=1522690078',\n",
    "#        'https://twitter.com/npr/status/980815284515868673',\n",
    "#        'https://www.thetimes.co.uk/edition/news/2-800-russian-bots-sowed-confusion-after-poison-attacks-zf6lvb3nc',\n",
    "#        'https://www.washingtonpost.com/world/trump-proposed-putin-visit-white-house-in-march-20-phone-call-kremlin-says/2018/04/02/b0727634-367b-11e8-acd5-35eac230e514_story.html',\n",
    "#        'https://www.washingtonpost.com/news/made-by-history/wp/2018/04/02/the-real-reason-russia-blames-britain-for-the-skripal-poisonings/?utm_term=.8208820aed18&tid=sm_tw',\n",
    "#        'https://www.nytimes.com/2018/04/01/world/europe/russia-sergei-skripal-uk-spy-poisoning.html?smid=tw-share',\n",
    "#        'https://edition.cnn.com/2018/04/02/europe/skripal-poisoning-uk-kremlin-approval-intl/index.html?sr=twCNN040218skripal-poisoning-uk-kremlin-approval-intl0751AMVODtop',\n",
    "#        'https://www.independent.co.uk/news/world/europe/sergei-skripal-latest-salisbury-poisoning-attack-russia-nerve-agent-sergei-lavrov-a8284766.html?utm_campaign=Echobox&utm_medium=Social&utm_source=Twitter',\n",
    "#        'https://www.nytimes.com/2018/04/01/world/europe/russia-sergei-skripal-uk-spy-poisoning.html',\n",
    "#        'https://www.cbsnews.com/news/russian-state-tv-airs-alleged-phone-call-from-yulia-skripal-daughter-of-poisoned-ex-spy/',\n",
    "#        'https://www.independent.co.uk/news/world/europe/salisbury-spy-poisoning-latest-russia-uk-sergei-skripal-un-ambassador-karen-pierce-a8291086.html',\n",
    "#        'http://www.bbc.co.uk/news/av/world-europe-43663007/russian-tv-airs-skripal-phone-call',\n",
    "#        'https://www.theguardian.com/uk-news/video/2018/apr/05/russian-tv-broadcasts-call-from-yulia-skripal-video?utm_term=Autofeed&CMP=twt_b-gdnnews#link_time=1522946048',\n",
    "#        'https://www.reuters.com/article/us-britain-russia-skripal-yulia-health/daughter-of-ex-spy-poisoned-in-uk-says-she-and-her-father-are-recovering-russian-state-tv-idUSKCN1HC1EU?utm_campaign=trueAnthem:+Trending+Content&utm_content=5ac68c0704d301294e9725b5&utm_medium=trueAnthem&utm_source=twitter',\n",
    "#        'https://www.theguardian.com/uk-news/2018/apr/05/recovery-of-yulia-skripal-injects-personality-into-uk-and-russias-script?utm_term=Autofeed&CMP=twt_b-gdnnews#link_time=1522958647',\n",
    "#        'https://www.independent.co.uk/news/uk/home-news/salisbury-spy-poisoning-latest-russia-uk-sergei-skripal-playing-with-fire-a8291051.html?utm_campaign=Echobox&utm_medium=Social&utm_source=Twitter',\n",
    "#        'http://www.cbc.ca/news/world/daughter-poisoning-spy-yulia-sergei-skripal-uk-russia-1.4606047',\n",
    "#        'http://www.bbc.co.uk/news/av/world-europe-43663007/russian-tv-airs-skripal-phone-call?ocid=socialflow_twitter',\n",
    "#        'https://www.theguardian.com/commentisfree/2018/apr/05/boris-johnson-intelligence-skripal-poisoning-security?CMP=share_btn_tw',\n",
    "#        'https://www.theguardian.com/uk-news/2018/apr/05/yulia-skripal-says-everyone-is-getting-better-russian-tv-reports?CMP=share_btn_tw',\n",
    "#        'https://www.nbcnews.com/news/weird-news/yulia-skripal-daughter-ex-russian-spy-gives-first-statement-after-n862901',\n",
    "#        'http://www.bbc.co.uk/news/world-europe-43652574',\n",
    "#        'https://www.theguardian.com/uk-news/2018/apr/05/yulia-skripal-says-everyone-is-getting-better-russian-tv-reports?utm_term=Autofeed&CMP=twt_b-gdnnews#link_time=1522935147',\n",
    "#        'https://www.bloomberg.com/news/articles/2018-04-05/woman-in-russian-spy-mystery-moves-to-center-of-diplomatic-spat?utm_source=twitter&cmpid=socialflow-twitter-business&utm_content=business&utm_campaign=socialflow-organic&utm_medium=social',\n",
    "#        'https://www.washingtonpost.com/news/worldviews/wp/2018/03/12/what-is-novichok-the-russian-nerve-agent-and-the-scientist-who-revealed-it/?utm_term=.34d91eea4ca6',\n",
    "#        'https://www.thetimes.co.uk/article/3c86d182-3853-11e8-9a8f-0b0aae019371',\n",
    "#        'https://www.reuters.com/article/us-britain-russia-skripal-yulia-health/daughter-of-ex-spy-poisoned-in-uk-says-she-and-her-father-are-recovering-russian-state-tv-idUSKCN1HC1EU',\n",
    "#        'https://www.theguardian.com/uk-news/2018/apr/05/yulia-skripal-says-everyone-is-getting-better-russian-tv-reports',\n",
    "#        'https://www.thetimes.co.uk/article/useful-idiots-are-letting-putin-off-the-hook-fz63rn9g2',\n",
    "#        'http://www.bbc.co.uk/news/world-europe-43652574?ns_mchannel=social&ns_campaign=bbc_breaking&ns_source=twitter&ns_linkname=news_central',\n",
    "#        'https://www.thetimes.co.uk/article/may-battles-to-preserve-alliance-against-russia-qcwkzlt63?shareToken=f0eb79b8f82f18a7fbe2d9c4f4499007',\n",
    "#        'https://www.independent.co.uk/news/uk/politics/british-army-could-stage-mutiny-under-corbyn-says-senior-serving-general-10509742.html',\n",
    "#        'https://www.facebook.com/bbcnews/videos/10155465941646200/',\n",
    "#        'https://www.cbsnews.com/news/sergei-skripal-former-russian-spy-no-longer-in-critical-condition/?ftag=CNM-00-10aab7e&linkId=50155694',\n",
    "#        'https://www.theguardian.com/world/video/2018/apr/06/sergei-skripal-responding-well-to-treatment-says-salisbury-hospital?utm_term=Autofeed&CMP=twt_b-gdnnews#link_time=1523050172',\n",
    "#        'https://www.independent.co.uk/news/uk/politics/viktoria-skripal-uk-visa-denied-home-office-sergei-salisbury-visit-hospital-yulia-a8292481.html',\n",
    "#        'https://www.rt.com/uk/423397-skripal-hospital-critical-salisbury/',\n",
    "#        'http://www.dailymail.co.uk/news/article-5586087/Sergei-Skripal-no-longer-critical-condition-according-doctors.html',\n",
    "#        'https://www.independent.co.uk/news/uk/politics/victoria-skripal-uk-visa-denied-home-office-sergei-salisbury-visit-hospital-yulia-a8292481.html',\n",
    "#        'https://www.theguardian.com/uk-news/2018/apr/06/salisbury-poisoning-what-next-now-sergei-skripal-is-no-longer-critically-ill?utm_term=Autofeed&CMP=twt_b-gdnnews#link_time=1523045068',\n",
    "#        'https://www.theguardian.com/commentisfree/2018/apr/06/boris-johnson-post-truth-post-shame-novichok',\n",
    "#        'https://www.independent.co.uk/voices/sergei-skripal-russia-nerve-agent-novichok-recovery-a8292726.html?utm_campaign=Echobox&utm_medium=Social&utm_source=Twitter',\n",
    "#        'https://www.theguardian.com/uk-news/2018/apr/06/salisbury-poisoning-what-next-now-sergei-skripal-is-no-longer-critically-ill?CMP=twt_gu',\n",
    "#        'https://www.nbcnews.com/news/world/sergei-skripal-improving-rapidly-nerve-agent-poison-attack-n863291?cid=sm_npd_ms_tw_ma',\n",
    "#        'https://www.theguardian.com/uk-news/2018/apr/06/sergei-skripal-no-longer-in-critical-condition-and-improving-rapidly?utm_term=Autofeed&CMP=twt_b-gdnnews#link_time=1523028092',\n",
    "#        'http://time.com/5229321/sergei-skripal-yulia-russian-spy-poisoning/?utm_campaign=time&utm_source=twitter.com&utm_medium=social&xid=time_socialflow_twitter',\n",
    "#        'https://www.theguardian.com/us-news/2018/apr/05/ex-trump-aide-paul-manafort-approved-black-ops-to-help-ukraine-president',\n",
    "#        'https://www.nytimes.com/2018/04/05/world/europe/yulia-skripal-russia-britain.html',\n",
    "#        'https://www.nbcnews.com/news/world/yulia-skripal-daughter-ex-russian-spy-gives-first-statement-after-n862901?cid=sm_npd_nn_tw_ma',\n",
    "#        'https://www.cbsnews.com/news/poisoned-russian-ex-spy-sergei-skripal-daughter-yulia-skripal-speaks/?ftag=COS-05-10aaa0g&utm_campaign=trueAnthem:+Trending+Content&utm_content=5ac70d9504d301097272070c&utm_medium=trueAnthem&utm_source=twitter',\n",
    "#        'https://www.cbsnews.com/news/sergei-skripal-poisoning-britain-believes-it-has-found-russian-lab-that-made-nerve-agent-salisbury/?ftag=COS-05-10aaa0g&utm_campaign=trueAnthem:+Trending+Content&utm_content=5ac70a1204d301796b5c063f&utm_medium=trueAnthem&utm_source=twitter',\n",
    "#        'https://www.cbsnews.com/news/russian-state-tv-airs-alleged-phone-call-from-yulia-skripal-daughter-of-poisoned-ex-spy/?ftag=CNM-00-10aab7e&linkId=50113818',\n",
    "#        'http://www.dailymail.co.uk/news/article-5590067/Nerve-agent-used-poison-Russian-spy-designed-4-hours-work-allow-culprits-flee.html#ixzz5C3pWySxj',\n",
    "#        'https://www.theguardian.com/politics/2018/apr/08/theresa-may-scandinavia-row-russia-salisbury-attack-skripal-nerve-agent?utm_term=Autofeed&CMP=twt_b-gdnnews#link_time=1523223342',\n",
    "#        'https://www.theguardian.com/uk-news/2018/apr/04/uk-urged-to-counter-disinformation-from-russia-over-novichok?CMP=Share_iOSApp_Other',\n",
    "#        'http://skwawkbox.org/2018/04/08/video-bbc-covers-for-johnson-again-as-marr-loses-johnsons-novichok-source-question/',\n",
    "#        'https://www.washingtonpost.com/news/worldviews/wp/2018/04/06/russia-claims-a-poisoned-spys-dead-cat-and-guinea-pigs-hold-clues-to-british-conspiracy/?utm_term=.92b656a7d6cd',\n",
    "#        'https://iz.ru/729715/2018-04-08/gp-obnaroduet-svidetelstva-nezakonnogo-polucheniia-berezovskim-ubezhishcha-v-velikobritanii',\n",
    "#        'http://bulgarianpresidency.eu/poll-88-of-bulgarians-side-with-russia-in-the-skripal-case/',\n",
    "#        'http://www.dailymail.co.uk/news/article-5581507/Yulia-Skripal-calls-Moscow-says-leave-hospital-days.html',\n",
    "#        'https://www.thedailybeast.com/report-sergei-skripal-daughter-to-get-new-identities',\n",
    "#        'https://www.independent.co.uk/news/uk/home-news/sergei-skripal-pets-cat-guinea-pig-deaths-salisbury-nerve-agent-peta-a8292251.html',\n",
    "#        'http://www.dailymail.co.uk/news/article-5590007/Niece-Sergei-Skripal-goads-Theresa-video-message.html',\n",
    "#        'https://sputniknews.com/analysis/201804051063242381-skripal-false-flag-uk/?utm_source=short_direct&utm_medium=short_url&utm_content=hjuN&utm_campaign=URL_shortening',\n",
    "#        'https://www.nytimes.com/2018/04/05/world/europe/russia-landfills-gases.html?smid=tw-nytimes&smtyp=cur',\n",
    "#        'https://www.newstatesman.com/world/2018/04/johnson-corbyn-and-too-many-others-are-playing-russia-s-hands-skripal-poisoning',\n",
    "#        'https://twitter.com/moscowtimes/status/977093642568552448',\n",
    "#        'http://eastwestblog.net/2016/05/14/ukraines-parliament-asks-bbc-to-stop-using-civil-war-for-russias-aggression/',\n",
    "#        'https://www.reuters.com/article/us-britain-russia-skripal-usa/britain-aims-to-resettle-poisoned-russian-ex-spy-in-the-u-s-sunday-times-idUSKBN1HE0TY?utm_campaign=trueAnthem:+Trending+Content&utm_content=5ac9522704d3014f4885143f&utm_medium=trueAnthem&utm_source=twitter',\n",
    "#        'http://www.bbc.co.uk/news/uk-43680216',\n",
    "#        'https://www.zerohedge.com/news/2018-04-07/skripal-gate-collapses-so-will-may-government',\n",
    "#        'https://www.thetimes.co.uk/article/novichok-scientist-vil-mirzayanov-reveals-decades-of-lies-3s5rglflp?CMP=Sprkr-_-Editorial-_-thetimes-_-Unspecified-_-TWITTER',\n",
    "#        'https://www.reuters.com/article/us-britain-russia-skripal-asylum/yulia-skripal-to-seek-political-asylum-ria-citing-cousin-idUSKBN1HG2I1?utm_campaign=trueAnthem:+Trending+Content&utm_content=5acbaeda04d3013ab4a944f5&utm_medium=trueAnthem&utm_source=twitter',\n",
    "#        'http://www.bbc.co.uk/news/uk-43710126?ns_mchannel=social&ns_campaign=bbc_breaking&ns_source=twitter&ns_linkname=news_central',\n",
    "#        'https://www.reuters.com/article/us-britain-russia-skripal/poisoned-yulia-skripal-has-been-discharged-from-british-hospital-bbc-idUSKBN1HH0PM?feedType=RSS&feedName=topNews&utm_source=twitter&utm_medium=Social',\n",
    "#        'https://www.independent.co.uk/news/uk/home-news/yulia-skripal-latest-health-hospital-sergei-russia-spy-novichok-salisbury-a8297136.html?utm_campaign=Echobox&utm_medium=Social&utm_source=Twitter',\n",
    "#        'https://www.reuters.com/article/us-britain-russia-skripal/yulia-skripal-to-be-discharged-from-british-hospital-on-tuesday-sky-news-says-idUSKBN1HH0PM?feedType=RSS&feedName=topNews&utm_medium=Social&utm_source=twitter',\n",
    "#        'https://www.thetimes.co.uk/article/russian-message-intercepted-after-skripal-attack-6t2mkbx0v?CMP=Sprkr-_-Editorial-_-thetimes-_-Unspecified-_-TWITTER',\n",
    "#        'https://www.theguardian.com/politics/2018/apr/15/boris-johnson-defends-remarks-on-russian-role-in-novichok-case?utm_term=Autofeed&CMP=twt_b-gdnnews#link_time=1523801329',\n",
    "#        'http://www.dailymail.co.uk/news/article-5616859/Novichok-Salisbury-hitman-failed-kill-Skripals-raining.html',\n",
    "#        'http://www.dailymail.co.uk/news/article-5616611/Sinister-social-media-post-Yulia-Skripals-Russian-Facebook-site-raises-new-hacking-fears.html',\n",
    "#        'https://www.rt.com/news/424149-skripal-poisoning-bz-lavrov/',\n",
    "#        'https://www.independent.co.uk/news/uk/home-news/skripals-skripal-russia-nerve-agent-bz-novichok-poison-salisbury-attack-latest-update-a8304841.html',\n",
    "#        'https://www.zerohedge.com/news/2018-04-14/independent-swiss-lab-says-bz-toxin-used-skripal-poisoning-usuk-produced-not',\n",
    "#        'https://thebell.io/en/the-scientist-who-developed-novichok-doses-ranged-from-20-grams-to-several-kilos/',\n",
    "#        'https://uk.reuters.com/article/uk-britain-russia-skripal-lavrov/russias-lavrov-says-skripals-may-have-been-poisoned-by-substance-russia-never-made-idUKKBN1HL17G',\n",
    "#        'https://www.economist.com/news/britain/21740776-mischievous-englishwomen-are-blamed-everything-skripal-poisoning-17th-century?fsrc=scn/tw/te/bl/ed/kremlinbackedfakenewstargetsbritainanglichankastrikesagain',\n",
    "#        'https://www.nbcnews.com/tech/tech-news/russian-propaganda-evades-youtube-s-flagging-system-buzzfeed-style-knockoffs-n867431',\n",
    "#        'https://www.nytimes.com/2018/03/12/world/europe/uk-russia-spy-poisoning.html',\n",
    "#        'https://www.cbsnews.com/news/russia-poisoned-ex-spy-sergei-skripal-daughter-yulia-airport-video-moscow/?ftag=CNM-00-10aab7e&linkId=50685865',\n",
    "#        'https://www.thetimes.co.uk/edition/news/salisbury-clean-up-after-skripal-poisoning-will-take-months-t7h3kcxh8?CMP=Sprkr-_-Editorial-_-thetimes-_-Unspecified-_-TWITTER',\n",
    "#        'https://www.reuters.com/article/us-britain-russia/russias-rt-faces-seven-investigations-in-britain-over-broadcasts-since-skripal-case-idUSKBN1HP1CM?feedType=RSS&feedName=topNews&utm_medium=Social&utm_source=twitter',\n",
    "#        'https://www.thedailybeast.com/rts-skripal-coverage-investigated-by-uk-tv-watchdog?source=twitter&via=mobile',\n",
    "#        'http://www.bbc.com/news/uk-43805167?ns_source=twitter&ocid=socialflow_twitter&ns_campaign=bbcnews&ns_mchannel=social',\n",
    "#        'https://www.theguardian.com/uk-news/2018/apr/17/nerve-agent-used-to-attack-sergei-skripal-was-liquid-says-defra',\n",
    "#        'http://www.bbc.com/news/uk-43798068',\n",
    "#        'https://www.rt.com/shows/renegade-inc/424239-weapons-mass-distraction-issue/',\n",
    "#        'https://www.economist.com/news/europe/21740456-smolensk-salisbury-conspiracy-theories-and-about-russia?fsrc=scn/tw/te/bl/ed/conspiracytheoriesfromandaboutrussiaflightsofimagination',\n",
    "#        'https://www.theguardian.com/uk-news/2018/apr/17/nerve-agent-used-to-attack-sergei-skripal-was-liquid-says-defra?utm_term=Autofeed&CMP=twt_b-gdnnews#link_time=1523975218',\n",
    "#        'http://www.bbc.com/news/uk-43798068?ns_campaign=bbcnews&ns_source=twitter&ns_mchannel=social&ocid=socialflow_twitter',\n",
    "#        'https://monitoring.bbc.co.uk/product/c1dp2xz8',\n",
    "#        'http://www.bbc.co.uk/news/uk-43798068']\n",
    "# filtered_msgs = all_osn_msgs_df[all_osn_msgs_df['article_url'].isin(uoi)]\n",
    "\n",
    "\n",
    "# filter by class\n",
    "#all_osn_msgs_df[all_osn_msgs_df['class'].isin(['TM','UF'])]\n",
    "\n",
    "filtered_msgs = all_osn_msgs_df\n",
    "filtered_msgs"
   ]
  },
  {
   "cell_type": "code",
   "execution_count": null,
   "id": "a04d0461",
   "metadata": {},
   "outputs": [],
   "source": [
    "#%%time\n",
    "# generate retweet network\n",
    "retweet_network_edges = filtered_msgs.groupby(['parent_user_id','user_id'], as_index=False).size().sort_values('size', ascending=False).rename(columns={'size':'num_retweets'})\n",
    "print(retweet_network_edges)\n",
    "if SAVE_OUTPUT_FILES:\n",
    "    retweet_network_edges.to_csv(OUTPUT_RETWEET_NETWORK_FILE, index=False)"
   ]
  },
  {
   "cell_type": "code",
   "execution_count": null,
   "id": "c27e742a",
   "metadata": {},
   "outputs": [],
   "source": [
    "#%%time\n",
    "# generate community partition on retweet network\n",
    "G = nx.from_pandas_edgelist(retweet_network_edges,'parent_user_id','user_id',['num_retweets'])\n",
    "print(G)\n",
    "lc = nx.algorithms.community.louvain_communities(G, resolution=1, seed=235246345345)\n",
    "print(len(lc))\n",
    "user_comm_sizes = pd.Series([len(c) for c in lc]).value_counts().rename_axis('community_size').rename('num_of_communities').reset_index().sort_values('community_size', ascending=False).reset_index(drop=True).rename_axis('size_rank')\n",
    "if SAVE_OUTPUT_FILES:\n",
    "    user_comm_sizes.to_csv(OUTPUT_ALL_USER_COMM_SIZES_FILE)\n",
    "print(user_comm_sizes[user_comm_sizes['community_size'] > 500])\n",
    "filtered_comms = [c for c in lc if len(c) > MIN_COMM_SIZE]\n",
    "print(f\"Number of communities with min of {MIN_COMM_SIZE} users : {len(filtered_comms)}\")"
   ]
  },
  {
   "cell_type": "code",
   "execution_count": null,
   "id": "dca8bfc8",
   "metadata": {},
   "outputs": [],
   "source": [
    "#%%time\n",
    "# generate actor tables \n",
    "\n",
    "# generate platform actors table\n",
    "platform_to_user_count = filtered_msgs['platform'].value_counts().to_dict()\n",
    "platform_actors_df = pd.Series(platform_to_user_count).rename('users_count').rename_axis('platform').reset_index()\n",
    "platform_actors_df = platform_actors_df[(platform_actors_df['users_count'] > MIN_PLAT_SIZE) & (platform_actors_df['platform'].isin(KNOWN_PLATFORMS))].reset_index(drop=True).rename_axis('actor_id')\n",
    "next_actor_id = platform_actors_df.index.max() + 1\n",
    "print(next_actor_id)\n",
    "print(\"plat_actors:\\n\", platform_actors_df, \"\\n\")\n",
    "if SAVE_OUTPUT_FILES:\n",
    "    platform_actors_df.to_csv(OUTPUT_PLATFORM_ACTORS_FILE)\n",
    "\n",
    "# generate individual actors table\n",
    "ind_actors_df = filtered_msgs['parent_user_id'].value_counts().iloc[:100].rename('received_share_count').rename_axis('user_id').reset_index().rename_axis('actor_id')\n",
    "ind_actors_df.index = ind_actors_df.index + next_actor_id\n",
    "ind_actors_df.reset_index(inplace=True)\n",
    "next_actor_id = ind_actors_df['actor_id'].max() + 1\n",
    "print(next_actor_id)\n",
    "print(\"indv_actors:\\n\", ind_actors_df, \"\\n\")\n",
    "if SAVE_OUTPUT_FILES:\n",
    "    ind_actors_df.to_csv(OUTPUT_INDV_ACTORS_FILE, index=False)\n",
    "\n",
    "\n",
    "\n",
    "# generate community actors table\n",
    "comm_info_df = pd.DataFrame([[len(c), c] for c in filtered_comms], columns=['users_count', 'users_set']).sort_values('users_count', ascending=False).reset_index(drop=True).rename_axis('comm_id')\n",
    "comm_info_df['actor_id'] = comm_info_df.index + next_actor_id\n",
    "comm_info_df = comm_info_df.reset_index().set_index('actor_id')\n",
    "if SAVE_OUTPUT_FILES:\n",
    "    comm_info_df.to_csv(OUTPUT_COMM_INFO_FILE)\n",
    "print(\"Community info :\\n\", comm_info_df)\n",
    "comm_actors_data = []\n",
    "for actid,row in comm_info_df.iterrows():\n",
    "    for uid in row['users_set']:\n",
    "        comm_actors_data.append([uid, row['comm_id'], actid])\n",
    "        \n",
    "comm_actors_df = pd.DataFrame(comm_actors_data, columns=['user_id','comm_id','actor_id'])\n",
    "print(\"comm_actors:\\n\", comm_actors_df, \"\\n\")\n",
    "if SAVE_OUTPUT_FILES:\n",
    "    comm_actors_df.to_csv(OUTPUT_COMM_ACTORS_FILE, index=False)\n",
    "\n",
    "\n",
    "# generate actors table\n",
    "all_actors = [[plt_aid, platform_actors_df.loc[plt_aid]['platform'], 'plat', platform_actors_df.loc[plt_aid]['users_count']] for plt_aid in platform_actors_df.index.to_list()]\n",
    "all_actors = all_actors + [[indv,\n",
    "                            users_df[ users_df['user_id'] == ind_actors_df[ind_actors_df['actor_id']==indv].iloc[0]['user_id'] ].iloc[0]['source_user_id'],\n",
    "                            'indv', 1] for indv in ind_actors_df['actor_id']]\n",
    "print('here')\n",
    "all_actors = all_actors + list({(comm_aid, comm_info_df.loc[comm_aid]['comm_id'], 'comm', comm_info_df.loc[comm_aid]['users_count']) for comm_aid in comm_info_df.index})\n",
    "print('here')\n",
    "all_actors_df = pd.DataFrame(all_actors, columns=['actor_id','actor_label','actor_type','num_users']).sort_values('actor_id')\n",
    "if SAVE_OUTPUT_FILES:\n",
    "    all_actors_df.to_csv(OUTPUT_ACTORS_FILE, index=False)\n",
    "all_actors_df"
   ]
  },
  {
   "cell_type": "code",
   "execution_count": null,
   "id": "4f63bcaa",
   "metadata": {},
   "outputs": [],
   "source": [
    "if SAVE_OUTPUT_FILES:\n",
    "    all_osn_msgs_df.to_csv(OUTPUT_ALL_OSN_MSGS_FILE, index=False)\n",
    "all_osn_msgs_df"
   ]
  },
  {
   "cell_type": "code",
   "execution_count": null,
   "id": "e6ebf80a",
   "metadata": {},
   "outputs": [],
   "source": [
    "# upload datafiles to s3 bucket\n",
    "if UPLOAD_FILES:\n",
    "    s3_bucket_object = boto3.Session().resource('s3').Bucket(UPLOAD_S3_BUCKET_NAME)\n",
    "    for file_name in [os.path.basename(f) for f in glob.glob(\"./OUTPUT/*.csv\")]:\n",
    "        print(f\"Uploading file : {OUTPUT_DIR}/{file_name} to {UPLOAD_S3_BUCKET_NAME}/{UPLOAD_S3_BUCKET_SUBFOLDER}/{file_name}\")\n",
    "        s3_bucket_object.upload_file(f\"{OUTPUT_DIR}/{file_name}\", f\"{UPLOAD_S3_BUCKET_SUBFOLDER}/{file_name}\")"
   ]
  },
  {
   "cell_type": "code",
   "execution_count": null,
   "id": "13f51ac8",
   "metadata": {},
   "outputs": [],
   "source": [
    "import importlib\n",
    "importlib.reload(transfer_entropy_functions)\n",
    "\n",
    "def compute_actor_te_network(actors_of_interest, t3_all_osn_msgs, t6_actors, t7_indv_actors, t8_comm_actors, t9_plat_actors, freq, start_date, end_date):\n",
    "    # generate te network for the selected actors\n",
    "    print(t6_actors)\n",
    "    #start_date = t3_all_osn_msgs['datetime'].dt.date.min()\n",
    "    #end_date = t3_all_osn_msgs['datetime'].dt.date.max() + datetime.timedelta(days=1)\n",
    "    results_df = transfer_entropy_functions.generate_te_edge_list(actors_of_interest, t3_all_osn_msgs, t6_actors, t7_indv_actors, t8_comm_actors, t9_plat_actors, freq, start_date, end_date)\n",
    "    return results_df"
   ]
  },
  {
   "cell_type": "code",
   "execution_count": null,
   "id": "b7ce42e2",
   "metadata": {},
   "outputs": [],
   "source": [
    "#platform_actors_df"
   ]
  },
  {
   "cell_type": "code",
   "execution_count": null,
   "id": "efb2d540",
   "metadata": {},
   "outputs": [],
   "source": [
    "#comm_actors_df"
   ]
  },
  {
   "cell_type": "code",
   "execution_count": null,
   "id": "8f0d93f6",
   "metadata": {},
   "outputs": [],
   "source": [
    "#ind_actors_df"
   ]
  },
  {
   "cell_type": "code",
   "execution_count": null,
   "id": "069eac53",
   "metadata": {
    "scrolled": true
   },
   "outputs": [],
   "source": [
    "#all_osn_msgs_df.iloc[541].to_dict()"
   ]
  },
  {
   "cell_type": "code",
   "execution_count": null,
   "id": "4abc8edb",
   "metadata": {},
   "outputs": [],
   "source": [
    "all_actors_df = all_actors_df.set_index('actor_id')\n",
    "ind_actors_df = ind_actors_df.set_index('actor_id')\n",
    "comm_actors_df = comm_actors_df.set_index('actor_id')"
   ]
  },
  {
   "cell_type": "code",
   "execution_count": null,
   "id": "8855b7ee",
   "metadata": {},
   "outputs": [],
   "source": [
    "# Get the moving/growing window start points for the given duration by the given shift size\n",
    "print(f\"Start Date : {START_DATE}\")\n",
    "print(f\"End Date : {END_DATE}\")\n",
    "print(f\"Window Shift By : {WINDOW_SHIFT_BY_DAYS}\")\n",
    "print(f\"Init Window Size : {INIT_WINDOW_SIZE}\")\n",
    "dynamic_windows = pd.DatetimeIndex(pd.date_range(start=START_DATE, end=END_DATE, freq=f\"{WINDOW_SHIFT_BY_DAYS}D\", closed='left'))\n",
    "print(dynamic_windows)\n",
    "\n",
    "# Moving/Growing windows start and end dates\n",
    "IS_GROWING_WINDOW = True\n",
    "dwindows_df = pd.DataFrame( { \n",
    "    'start_date': pd.Series(dynamic_windows[0] if IS_GROWING_WINDOW else dw for dw in dynamic_windows),\n",
    "    'end_date': pd.Series([dw + INIT_WINDOW_SIZE for dw in dynamic_windows])\n",
    "              })\n",
    "# remove days that are out of end date boundary\n",
    "dwindows_df = dwindows_df[dwindows_df['end_date'] < END_DATE + datetime.timedelta(days=WINDOW_SHIFT_BY_DAYS) ]\n",
    "dwindows_df"
   ]
  },
  {
   "cell_type": "code",
   "execution_count": null,
   "id": "630934e0",
   "metadata": {},
   "outputs": [],
   "source": []
  },
  {
   "cell_type": "code",
   "execution_count": null,
   "id": "681c0c16",
   "metadata": {
    "scrolled": true
   },
   "outputs": [],
   "source": [
    "# Iterate over all moving windows and compute the series of results\n",
    "\n",
    "importlib.reload(transfer_entropy_functions)\n",
    "\n",
    "results = []\n",
    "for idx, row in dwindows_df.iterrows():\n",
    "    print(idx)\n",
    "    print(f\"{row['start_date']} to {row['end_date']}\")\n",
    "    r = compute_actor_te_network(all_actors_df.index.to_list(), filtered_msgs, all_actors_df, ind_actors_df, comm_actors_df, platform_actors_df,\n",
    "                                 SAMPLE_FREQUENCY, row['start_date'], row['end_date'])\n",
    "    results.append(r)"
   ]
  },
  {
   "cell_type": "code",
   "execution_count": null,
   "id": "ffcacc9a",
   "metadata": {},
   "outputs": [],
   "source": [
    "len(results)"
   ]
  },
  {
   "cell_type": "code",
   "execution_count": null,
   "id": "58afdb0c",
   "metadata": {
    "scrolled": true
   },
   "outputs": [],
   "source": [
    "for i, r in enumerate(results):\n",
    "    s = dwindows_df['start_date'].iloc[i].date()\n",
    "    s = str(s).replace(\"-\",\"_\")\n",
    "    print(f\"r : {i} : {s}\")\n",
    "    print(f\"\\tnum of TE <= 0 edges : {r[r['total_te'] <= 0].shape[0]}\")\n",
    "    print(f\"\\tnum of TE > 0 edges : {r[r['total_te'] > 0].shape[0]}\")\n",
    "    r = r[r['total_te'] > 0]\n",
    "    print(r.shape)\n",
    "    print(r.head())"
   ]
  },
  {
   "cell_type": "code",
   "execution_count": null,
   "id": "44e1667c",
   "metadata": {},
   "outputs": [],
   "source": [
    "for i,r in enumerate(results):\n",
    "    s1 = dwindows_df['start_date'].iloc[i].date()\n",
    "    s1 = str(s1).replace(\"-\",\"_\")\n",
    "    s2 = dwindows_df['end_date'].iloc[i].date()\n",
    "    s2 = str(s2).replace(\"-\",\"_\")\n",
    "    print(f\"r : {i} : {s}\")\n",
    "    if SAVE_OUTPUT_FILES:\n",
    "        r.to_csv(OUTPUT_DIR + f\"/dynamic/growing/actor_te_edges_{s1}_{s2}.csv\", index=False)\n",
    "        if UPLOAD_FILES:\n",
    "            s3_bucket_object.upload_file(f\"{OUTPUT_DIR}/dynamic/growing/actor_te_edges_{s1}_{s2}.csv\", f\"{UPLOAD_S3_BUCKET_SUBFOLDER}/dynamic/growing/actor_te_edges_{s1}_{s2}.csv\")"
   ]
  },
  {
   "cell_type": "code",
   "execution_count": null,
   "id": "637b96f7",
   "metadata": {},
   "outputs": [],
   "source": [
    "all_actors_df.actor_type.unique()"
   ]
  },
  {
   "cell_type": "code",
   "execution_count": null,
   "id": "06c284ee",
   "metadata": {},
   "outputs": [],
   "source": []
  },
  {
   "cell_type": "code",
   "execution_count": null,
   "id": "0514ad1a",
   "metadata": {},
   "outputs": [],
   "source": [
    "classes=['UF', 'UM', 'TF', 'TM']\n",
    "cols = []\n",
    "for s in classes:\n",
    "    for t in classes:\n",
    "        cols.append(f\"{s}_{t}\")\n",
    "ecols = []\n",
    "for col in cols:\n",
    "    c = f\"e_{col}\"\n",
    "    ecols.append(c)\n",
    "    r[c] = r[col].apply(lambda x: 1 if x > 0 else 0)\n",
    "r"
   ]
  },
  {
   "cell_type": "code",
   "execution_count": null,
   "id": "7f68db33",
   "metadata": {},
   "outputs": [],
   "source": [
    "if SAVE_OUTPUT_FILES:\n",
    "    r[['Source', 'Target'] + ecols].to_csv(OUTPUT_DIR + '/gephi_actor_te_edges.csv', index=False)\n",
    "    if UPLOAD_FILES:\n",
    "        s3_bucket_object.upload_file(f\"{OUTPUT_DIR}/actor_te_edges.csv\", f\"{UPLOAD_S3_BUCKET_SUBFOLDER}/gephi_actor_te_edges.csv\")"
   ]
  },
  {
   "cell_type": "code",
   "execution_count": null,
   "id": "9b4cb49c",
   "metadata": {},
   "outputs": [],
   "source": [
    "x = r[['Source', 'Target'] + ecols]\n",
    "x"
   ]
  },
  {
   "cell_type": "code",
   "execution_count": null,
   "id": "4cccd755",
   "metadata": {},
   "outputs": [],
   "source": [
    "import matplotlib.pyplot as plt\n",
    "xs = []\n",
    "hs = []\n",
    "cmap = {'UF':'tomato','UM':'lawngreen','TF':'cornflowerblue','TM':'fuchsia'}\n",
    "cs = []\n",
    "for ec in ecols:\n",
    "    print(f\"{ec[2:]} -> {x[ec].sum()}\")\n",
    "    xs.append(ec[2:])\n",
    "    hs.append(x[ec].sum())\n",
    "    cs.append(cmap[ec[2:4]])\n",
    "    \n",
    "f, ax = plt.subplots(figsize=(10,7))\n",
    "plt.bar(xs, hs, color=cs)\n",
    "plt.xticks(rotation=60)\n",
    "plt.title('Total Number of Edges')\n",
    "plt.ylabel('Count')\n",
    "plt.xlabel('Influence Class')\n",
    "plt.show()"
   ]
  },
  {
   "cell_type": "code",
   "execution_count": null,
   "id": "8e58562c",
   "metadata": {},
   "outputs": [],
   "source": [
    "d = filtered_msgs['class'].value_counts().to_dict()\n",
    "print(d)\n",
    "\n",
    "f, ax = plt.subplots(figsize=(5,7))\n",
    "plt.bar(classes, [d[c] for c in classes], color=[cmap[c] for c in classes])\n",
    "#plt.xticks(rotation=60)\n",
    "plt.title('Total Number of Tweets')\n",
    "plt.ylabel('Count')\n",
    "plt.xlabel('News Domain Class')\n",
    "plt.show()"
   ]
  },
  {
   "cell_type": "code",
   "execution_count": null,
   "id": "33ca4507",
   "metadata": {},
   "outputs": [],
   "source": [
    "all_osn_msgs_df[\"article_url\"].nunique()"
   ]
  },
  {
   "cell_type": "code",
   "execution_count": null,
   "id": "62c32c85",
   "metadata": {},
   "outputs": [],
   "source": [
    "all_osn_msgs_df['news_domain'].value_counts()"
   ]
  },
  {
   "cell_type": "code",
   "execution_count": null,
   "id": "3e42db58",
   "metadata": {},
   "outputs": [],
   "source": [
    "all_osn_msgs_df."
   ]
  },
  {
   "cell_type": "code",
   "execution_count": null,
   "id": "66d3375a",
   "metadata": {
    "scrolled": true
   },
   "outputs": [],
   "source": [
    "gdf = all_osn_msgs_df[['datetime','news_domain']].reset_index().set_index('datetime')#.set_index('datetime').resample('D')#.Resampler.count()#apply(lambda x: pd.DataFrame(x))\n",
    "print(gdf)\n",
    "\n",
    "grouper = gdf.groupby([pd.Grouper(freq='1D'), 'news_domain'])\n",
    "result = grouper['index'].count().unstack('news_domain').fillna(0)\n",
    "\n",
    "result"
   ]
  },
  {
   "cell_type": "code",
   "execution_count": null,
   "id": "6ef51435",
   "metadata": {},
   "outputs": [],
   "source": [
    "result[['theguardian.com','sputniknews.com','rt.com']].plot(figsize=(14,14), ylabel='Posts Count', xlabel='Time')"
   ]
  },
  {
   "cell_type": "code",
   "execution_count": null,
   "id": "dfce6f66",
   "metadata": {},
   "outputs": [],
   "source": [
    "result.columns.to_list()"
   ]
  },
  {
   "cell_type": "code",
   "execution_count": null,
   "id": "348da5ba",
   "metadata": {},
   "outputs": [],
   "source": []
  }
 ],
 "metadata": {
  "kernelspec": {
   "display_name": "conda_python3",
   "language": "python",
   "name": "conda_python3"
  },
  "language_info": {
   "codemirror_mode": {
    "name": "ipython",
    "version": 3
   },
   "file_extension": ".py",
   "mimetype": "text/x-python",
   "name": "python",
   "nbconvert_exporter": "python",
   "pygments_lexer": "ipython3",
   "version": "3.10.8"
  }
 },
 "nbformat": 4,
 "nbformat_minor": 5
}
